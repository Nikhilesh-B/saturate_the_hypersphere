{
 "cells": [
  {
   "cell_type": "markdown",
   "id": "0a0eda5a",
   "metadata": {},
   "source": [
    "# Volatility Smile and Smirk Analysis\n",
    "\n",
    "This notebook analyzes the volatility smile and smirk patterns in equity options markets. We examine the relationship between implied volatility skew and future returns across multiple securities.\n"
   ]
  },
  {
   "cell_type": "markdown",
   "id": "bf675780",
   "metadata": {},
   "source": [
    "## 1. Setup and Imports\n",
    "\n",
    "Loading required libraries for data manipulation, statistical analysis, and visualization.\n"
   ]
  },
  {
   "cell_type": "code",
   "execution_count": 1,
   "id": "7768e1ec",
   "metadata": {},
   "outputs": [
    {
     "name": "stdout",
     "output_type": "stream",
     "text": [
      "All libraries imported successfully\n"
     ]
    }
   ],
   "source": [
    "# Data manipulation and analysis\n",
    "import pandas as pd\n",
    "import numpy as np\n",
    "import polars as pl \n",
    "\n",
    "# Statistical modeling and diagnostics\n",
    "import statsmodels.api as sm\n",
    "from statsmodels.stats.outliers_influence import variance_inflation_factor\n",
    "from statsmodels.stats.diagnostic import het_breuschpagan, het_white\n",
    "from statsmodels.stats.stattools import jarque_bera\n",
    "\n",
    "# Machine learning and preprocessing\n",
    "from sklearn.preprocessing import StandardScaler\n",
    "from sklearn.model_selection import train_test_split\n",
    "from sklearn.metrics import r2_score\n",
    "\n",
    "# Data visualization\n",
    "import matplotlib.pyplot as plt\n",
    "import seaborn as sns\n",
    "\n",
    "# Data source\n",
    "from ucimlrepo import fetch_ucirepo\n",
    "\n",
    "# Configure plotting\n",
    "plt.style.use('default')\n",
    "sns.set_palette(\"husl\")\n",
    "plt.rcParams['figure.figsize'] = (10, 6)\n",
    "plt.rcParams['font.size'] = 11\n",
    "\n",
    "plt.rcParams['figure.constrained_layout.use'] = True\n",
    "print(\"All libraries imported successfully\")"
   ]
  },
  {
   "cell_type": "markdown",
   "id": "18eb6b9d",
   "metadata": {},
   "source": [
    "## 2. Data Loading\n",
    "\n",
    "### 2.1 Options Data\n",
    "\n",
    "Loading the options dataset containing implied volatilities, strike prices, and moneyness metrics."
   ]
  },
  {
   "cell_type": "code",
   "execution_count": 2,
   "id": "a8a60176",
   "metadata": {},
   "outputs": [],
   "source": [
    "option_df = pl.read_csv('raw_data/options_data.csv')"
   ]
  },
  {
   "cell_type": "code",
   "execution_count": 3,
   "id": "3b379153",
   "metadata": {},
   "outputs": [
    {
     "name": "stdout",
     "output_type": "stream",
     "text": [
      "Start date = 2019-01-02\n",
      "End date = 2023-08-31\n"
     ]
    }
   ],
   "source": [
    "start_date = option_df['date'].min()\n",
    "end_date = option_df['date'].max()\n",
    "print(\"Start date =\", start_date)\n",
    "print(\"End date =\", end_date)"
   ]
  },
  {
   "cell_type": "markdown",
   "id": "8876283c",
   "metadata": {},
   "source": [
    "### 2.2 Equity Returns Data\n",
    "\n",
    "Loading historical equity returns from CRSP for all securities in our sample."
   ]
  },
  {
   "cell_type": "code",
   "execution_count": 4,
   "id": "38877c5f",
   "metadata": {},
   "outputs": [],
   "source": [
    "ret_df = (\n",
    "    pl.read_csv(\n",
    "        \"./raw_data/all_equities.csv\",\n",
    "        schema_overrides={\"RET\": pl.Utf8}\n",
    "    )\n",
    "    .with_columns(pl.col(\"RET\").cast(pl.Float64, strict=False))\n",
    ")"
   ]
  },
  {
   "cell_type": "markdown",
   "id": "14c9ad7e",
   "metadata": {},
   "source": [
    "### 2.2.1 Weekly Aggregation of Returns\n",
    "\n",
    "Computing weekly returns by grouping daily returns into calendar weeks. Weekly returns are calculated as cumulative returns: $(1+r_1) \\times (1+r_2) \\times ... \\times (1+r_n) - 1$.\n"
   ]
  },
  {
   "cell_type": "code",
   "execution_count": 5,
   "id": "377c5e97",
   "metadata": {},
   "outputs": [
    {
     "name": "stderr",
     "output_type": "stream",
     "text": [
      "/var/folders/cf/zk37hd_50bv_nlrdlxrb4q3r0000gn/T/ipykernel_86771/3236063149.py:23: DeprecationWarning: `pl.count()` is deprecated. Please use `pl.len()` instead.\n",
      "  pl.count().alias(\"trading_days\"),\n"
     ]
    }
   ],
   "source": [
    "# Create weekly aggregation of returns\n",
    "weekly_ret_df = (\n",
    "    ret_df\n",
    "    .with_columns([\n",
    "        # Parse date column as Date type if not already\n",
    "        pl.col(\"date\").str.to_date().alias(\"date\"),\n",
    "    ])\n",
    "    .with_columns([\n",
    "        # Create week_start column (Monday-anchored)\n",
    "        pl.col(\"date\").dt.truncate(\"1w\").alias(\"week_start\"),\n",
    "    ])\n",
    "    .filter(pl.col(\"RET\").is_not_null() & pl.col(\"RET\").is_finite())\n",
    "    .group_by([\"PERMNO\", \"week_start\"])\n",
    "    .agg([\n",
    "        # Cumulative weekly return: product of (1 + daily returns) - 1\n",
    "        ((pl.col(\"RET\") + 1).product() - 1).alias(\"weekly_return\"),\n",
    "        # Last date in the week\n",
    "        pl.max(\"date\").alias(\"week_end\"),\n",
    "        # Additional info\n",
    "        pl.first(\"TICKER\").alias(\"TICKER\"),\n",
    "        pl.first(\"COMNAM\").alias(\"COMNAM\"),\n",
    "        # Count of trading days in the week\n",
    "        pl.count().alias(\"trading_days\"),\n",
    "    ])\n",
    "    .sort([\"PERMNO\", \"week_start\"])\n",
    ")\n"
   ]
  },
  {
   "cell_type": "code",
   "execution_count": 6,
   "id": "7a211167",
   "metadata": {},
   "outputs": [
    {
     "name": "stdout",
     "output_type": "stream",
     "text": [
      "Weekly Returns Summary:\n",
      "Total observations: 2,233,778\n",
      "Unique securities: 12281\n",
      "Date range: 2018-12-31 to 2023-12-29\n",
      "\n",
      "Weekly Return Statistics:\n",
      "shape: (9, 2)\n",
      "┌────────────┬────────────┐\n",
      "│ statistic  ┆ value      │\n",
      "│ ---        ┆ ---        │\n",
      "│ str        ┆ f64        │\n",
      "╞════════════╪════════════╡\n",
      "│ count      ┆ 2.233778e6 │\n",
      "│ null_count ┆ 0.0        │\n",
      "│ mean       ┆ 0.001779   │\n",
      "│ std        ┆ 0.092335   │\n",
      "│ min        ┆ -0.985393  │\n",
      "│ 25%        ┆ -0.023492  │\n",
      "│ 50%        ┆ 0.000753   │\n",
      "│ 75%        ┆ 0.023382   │\n",
      "│ max        ┆ 18.728247  │\n",
      "└────────────┴────────────┘\n"
     ]
    }
   ],
   "source": [
    "# Summary statistics of weekly returns\n",
    "print(\"Weekly Returns Summary:\")\n",
    "print(f\"Total observations: {len(weekly_ret_df):,}\")\n",
    "print(f\"Unique securities: {weekly_ret_df['PERMNO'].n_unique()}\")\n",
    "print(f\"Date range: {weekly_ret_df['week_start'].min()} to {weekly_ret_df['week_end'].max()}\")\n",
    "print(f\"\\nWeekly Return Statistics:\")\n",
    "print(weekly_ret_df['weekly_return'].describe())\n"
   ]
  },
  {
   "cell_type": "markdown",
   "id": "87ccd95b",
   "metadata": {},
   "source": [
    "### 2.3 Security Identifier Mapping\n",
    "\n",
    "Loading the mapping between OptionMetrics security IDs (secid) and CRSP PERMNOs to enable data linkage."
   ]
  },
  {
   "cell_type": "code",
   "execution_count": 7,
   "id": "a71d3091",
   "metadata": {},
   "outputs": [],
   "source": [
    "map_df = pl.read_csv(\"./raw_data/permno_secid_mapping.csv\")"
   ]
  },
  {
   "cell_type": "code",
   "execution_count": 8,
   "id": "916210f0",
   "metadata": {},
   "outputs": [
    {
     "data": {
      "text/html": [
       "<div><style>\n",
       ".dataframe > thead > tr,\n",
       ".dataframe > tbody > tr {\n",
       "  text-align: right;\n",
       "  white-space: pre-wrap;\n",
       "}\n",
       "</style>\n",
       "<small>shape: (16_461, 4)</small><table border=\"1\" class=\"dataframe\"><thead><tr><th>secid</th><th>sdate</th><th>edate</th><th>PERMNO</th></tr><tr><td>i64</td><td>str</td><td>str</td><td>i64</td></tr></thead><tbody><tr><td>5111</td><td>&quot;2021-03-18&quot;</td><td>&quot;2023-02-02&quot;</td><td>20768</td></tr><tr><td>5121</td><td>&quot;2018-02-28&quot;</td><td>&quot;2019-08-13&quot;</td><td>17295</td></tr><tr><td>5131</td><td>&quot;2007-04-02&quot;</td><td>&quot;2024-05-02&quot;</td><td>88960</td></tr><tr><td>5139</td><td>&quot;2002-07-29&quot;</td><td>&quot;2024-12-31&quot;</td><td>89462</td></tr><tr><td>5166</td><td>&quot;2014-01-15&quot;</td><td>&quot;2022-05-06&quot;</td><td>14380</td></tr><tr><td>&hellip;</td><td>&hellip;</td><td>&hellip;</td><td>&hellip;</td></tr><tr><td>219171</td><td>&quot;2024-01-04&quot;</td><td>&quot;2024-12-31&quot;</td><td>24747</td></tr><tr><td>219172</td><td>&quot;2024-01-04&quot;</td><td>&quot;2024-12-31&quot;</td><td>24746</td></tr><tr><td>219173</td><td>&quot;2024-01-04&quot;</td><td>&quot;2024-12-31&quot;</td><td>24718</td></tr><tr><td>219174</td><td>&quot;2024-01-25&quot;</td><td>&quot;2024-12-31&quot;</td><td>24685</td></tr><tr><td>219175</td><td>&quot;2024-02-01&quot;</td><td>&quot;2024-12-31&quot;</td><td>24818</td></tr></tbody></table></div>"
      ],
      "text/plain": [
       "shape: (16_461, 4)\n",
       "┌────────┬────────────┬────────────┬────────┐\n",
       "│ secid  ┆ sdate      ┆ edate      ┆ PERMNO │\n",
       "│ ---    ┆ ---        ┆ ---        ┆ ---    │\n",
       "│ i64    ┆ str        ┆ str        ┆ i64    │\n",
       "╞════════╪════════════╪════════════╪════════╡\n",
       "│ 5111   ┆ 2021-03-18 ┆ 2023-02-02 ┆ 20768  │\n",
       "│ 5121   ┆ 2018-02-28 ┆ 2019-08-13 ┆ 17295  │\n",
       "│ 5131   ┆ 2007-04-02 ┆ 2024-05-02 ┆ 88960  │\n",
       "│ 5139   ┆ 2002-07-29 ┆ 2024-12-31 ┆ 89462  │\n",
       "│ 5166   ┆ 2014-01-15 ┆ 2022-05-06 ┆ 14380  │\n",
       "│ …      ┆ …          ┆ …          ┆ …      │\n",
       "│ 219171 ┆ 2024-01-04 ┆ 2024-12-31 ┆ 24747  │\n",
       "│ 219172 ┆ 2024-01-04 ┆ 2024-12-31 ┆ 24746  │\n",
       "│ 219173 ┆ 2024-01-04 ┆ 2024-12-31 ┆ 24718  │\n",
       "│ 219174 ┆ 2024-01-25 ┆ 2024-12-31 ┆ 24685  │\n",
       "│ 219175 ┆ 2024-02-01 ┆ 2024-12-31 ┆ 24818  │\n",
       "└────────┴────────────┴────────────┴────────┘"
      ]
     },
     "execution_count": 8,
     "metadata": {},
     "output_type": "execute_result"
    }
   ],
   "source": [
    "filtered_map = map_df.filter(pl.col('edate')>start_date)\n",
    "filtered_map"
   ]
  },
  {
   "cell_type": "markdown",
   "id": "326996e9",
   "metadata": {},
   "source": [
    "## 3. Data Preparation\n",
    "\n",
    "### 3.1 Merging Returns with Security Identifiers\n",
    "\n",
    "Joining the equity returns data with the security identifier mapping to enable analysis across datasets."
   ]
  },
  {
   "cell_type": "code",
   "execution_count": 9,
   "id": "f727bd1f",
   "metadata": {},
   "outputs": [
    {
     "data": {
      "text/html": [
       "<div><style>\n",
       ".dataframe > thead > tr,\n",
       ".dataframe > tbody > tr {\n",
       "  text-align: right;\n",
       "  white-space: pre-wrap;\n",
       "}\n",
       "</style>\n",
       "<small>shape: (14_832_526, 9)</small><table border=\"1\" class=\"dataframe\"><thead><tr><th>PERMNO</th><th>date</th><th>TICKER</th><th>COMNAM</th><th>PRC</th><th>RET</th><th>secid</th><th>sdate</th><th>edate</th></tr><tr><td>i64</td><td>str</td><td>str</td><td>str</td><td>f64</td><td>f64</td><td>i64</td><td>str</td><td>str</td></tr></thead><tbody><tr><td>10026</td><td>&quot;2019-01-02&quot;</td><td>&quot;JJSF&quot;</td><td>&quot;J &amp; J SNACK FOODS CORP&quot;</td><td>141.0</td><td>-0.024829</td><td>106500</td><td>&quot;1996-01-02&quot;</td><td>&quot;2024-12-31&quot;</td></tr><tr><td>10026</td><td>&quot;2019-01-03&quot;</td><td>&quot;JJSF&quot;</td><td>&quot;J &amp; J SNACK FOODS CORP&quot;</td><td>143.02</td><td>0.014326</td><td>106500</td><td>&quot;1996-01-02&quot;</td><td>&quot;2024-12-31&quot;</td></tr><tr><td>10026</td><td>&quot;2019-01-04&quot;</td><td>&quot;JJSF&quot;</td><td>&quot;J &amp; J SNACK FOODS CORP&quot;</td><td>144.84</td><td>0.012725</td><td>106500</td><td>&quot;1996-01-02&quot;</td><td>&quot;2024-12-31&quot;</td></tr><tr><td>10026</td><td>&quot;2019-01-07&quot;</td><td>&quot;JJSF&quot;</td><td>&quot;J &amp; J SNACK FOODS CORP&quot;</td><td>145.41</td><td>0.003935</td><td>106500</td><td>&quot;1996-01-02&quot;</td><td>&quot;2024-12-31&quot;</td></tr><tr><td>10026</td><td>&quot;2019-01-08&quot;</td><td>&quot;JJSF&quot;</td><td>&quot;J &amp; J SNACK FOODS CORP&quot;</td><td>148.7</td><td>0.022626</td><td>106500</td><td>&quot;1996-01-02&quot;</td><td>&quot;2024-12-31&quot;</td></tr><tr><td>&hellip;</td><td>&hellip;</td><td>&hellip;</td><td>&hellip;</td><td>&hellip;</td><td>&hellip;</td><td>&hellip;</td><td>&hellip;</td><td>&hellip;</td></tr><tr><td>93436</td><td>&quot;2023-12-22&quot;</td><td>&quot;TSLA&quot;</td><td>&quot;TESLA INC&quot;</td><td>252.53999</td><td>-0.007701</td><td>143439</td><td>&quot;2010-06-29&quot;</td><td>&quot;2024-12-31&quot;</td></tr><tr><td>93436</td><td>&quot;2023-12-26&quot;</td><td>&quot;TSLA&quot;</td><td>&quot;TESLA INC&quot;</td><td>256.60999</td><td>0.016116</td><td>143439</td><td>&quot;2010-06-29&quot;</td><td>&quot;2024-12-31&quot;</td></tr><tr><td>93436</td><td>&quot;2023-12-27&quot;</td><td>&quot;TSLA&quot;</td><td>&quot;TESLA INC&quot;</td><td>261.44</td><td>0.018822</td><td>143439</td><td>&quot;2010-06-29&quot;</td><td>&quot;2024-12-31&quot;</td></tr><tr><td>93436</td><td>&quot;2023-12-28&quot;</td><td>&quot;TSLA&quot;</td><td>&quot;TESLA INC&quot;</td><td>253.17999</td><td>-0.031594</td><td>143439</td><td>&quot;2010-06-29&quot;</td><td>&quot;2024-12-31&quot;</td></tr><tr><td>93436</td><td>&quot;2023-12-29&quot;</td><td>&quot;TSLA&quot;</td><td>&quot;TESLA INC&quot;</td><td>248.48</td><td>-0.018564</td><td>143439</td><td>&quot;2010-06-29&quot;</td><td>&quot;2024-12-31&quot;</td></tr></tbody></table></div>"
      ],
      "text/plain": [
       "shape: (14_832_526, 9)\n",
       "┌────────┬────────────┬────────┬─────────────┬───┬───────────┬────────┬────────────┬────────────┐\n",
       "│ PERMNO ┆ date       ┆ TICKER ┆ COMNAM      ┆ … ┆ RET       ┆ secid  ┆ sdate      ┆ edate      │\n",
       "│ ---    ┆ ---        ┆ ---    ┆ ---         ┆   ┆ ---       ┆ ---    ┆ ---        ┆ ---        │\n",
       "│ i64    ┆ str        ┆ str    ┆ str         ┆   ┆ f64       ┆ i64    ┆ str        ┆ str        │\n",
       "╞════════╪════════════╪════════╪═════════════╪═══╪═══════════╪════════╪════════════╪════════════╡\n",
       "│ 10026  ┆ 2019-01-02 ┆ JJSF   ┆ J & J SNACK ┆ … ┆ -0.024829 ┆ 106500 ┆ 1996-01-02 ┆ 2024-12-31 │\n",
       "│        ┆            ┆        ┆ FOODS CORP  ┆   ┆           ┆        ┆            ┆            │\n",
       "│ 10026  ┆ 2019-01-03 ┆ JJSF   ┆ J & J SNACK ┆ … ┆ 0.014326  ┆ 106500 ┆ 1996-01-02 ┆ 2024-12-31 │\n",
       "│        ┆            ┆        ┆ FOODS CORP  ┆   ┆           ┆        ┆            ┆            │\n",
       "│ 10026  ┆ 2019-01-04 ┆ JJSF   ┆ J & J SNACK ┆ … ┆ 0.012725  ┆ 106500 ┆ 1996-01-02 ┆ 2024-12-31 │\n",
       "│        ┆            ┆        ┆ FOODS CORP  ┆   ┆           ┆        ┆            ┆            │\n",
       "│ 10026  ┆ 2019-01-07 ┆ JJSF   ┆ J & J SNACK ┆ … ┆ 0.003935  ┆ 106500 ┆ 1996-01-02 ┆ 2024-12-31 │\n",
       "│        ┆            ┆        ┆ FOODS CORP  ┆   ┆           ┆        ┆            ┆            │\n",
       "│ 10026  ┆ 2019-01-08 ┆ JJSF   ┆ J & J SNACK ┆ … ┆ 0.022626  ┆ 106500 ┆ 1996-01-02 ┆ 2024-12-31 │\n",
       "│        ┆            ┆        ┆ FOODS CORP  ┆   ┆           ┆        ┆            ┆            │\n",
       "│ …      ┆ …          ┆ …      ┆ …           ┆ … ┆ …         ┆ …      ┆ …          ┆ …          │\n",
       "│ 93436  ┆ 2023-12-22 ┆ TSLA   ┆ TESLA INC   ┆ … ┆ -0.007701 ┆ 143439 ┆ 2010-06-29 ┆ 2024-12-31 │\n",
       "│ 93436  ┆ 2023-12-26 ┆ TSLA   ┆ TESLA INC   ┆ … ┆ 0.016116  ┆ 143439 ┆ 2010-06-29 ┆ 2024-12-31 │\n",
       "│ 93436  ┆ 2023-12-27 ┆ TSLA   ┆ TESLA INC   ┆ … ┆ 0.018822  ┆ 143439 ┆ 2010-06-29 ┆ 2024-12-31 │\n",
       "│ 93436  ┆ 2023-12-28 ┆ TSLA   ┆ TESLA INC   ┆ … ┆ -0.031594 ┆ 143439 ┆ 2010-06-29 ┆ 2024-12-31 │\n",
       "│ 93436  ┆ 2023-12-29 ┆ TSLA   ┆ TESLA INC   ┆ … ┆ -0.018564 ┆ 143439 ┆ 2010-06-29 ┆ 2024-12-31 │\n",
       "└────────┴────────────┴────────┴─────────────┴───┴───────────┴────────┴────────────┴────────────┘"
      ]
     },
     "execution_count": 9,
     "metadata": {},
     "output_type": "execute_result"
    }
   ],
   "source": [
    "ret_df = ret_df.join(filtered_map,on=\"PERMNO\")\n",
    "ret_df"
   ]
  },
  {
   "cell_type": "code",
   "execution_count": 10,
   "id": "b3f16380",
   "metadata": {},
   "outputs": [
    {
     "data": {
      "text/html": [
       "<div><style>\n",
       ".dataframe > thead > tr,\n",
       ".dataframe > tbody > tr {\n",
       "  text-align: right;\n",
       "  white-space: pre-wrap;\n",
       "}\n",
       "</style>\n",
       "<small>shape: (3_070_490, 10)</small><table border=\"1\" class=\"dataframe\"><thead><tr><th>PERMNO</th><th>week_start</th><th>weekly_return</th><th>week_end</th><th>TICKER</th><th>COMNAM</th><th>trading_days</th><th>secid</th><th>sdate</th><th>edate</th></tr><tr><td>i64</td><td>date</td><td>f64</td><td>date</td><td>str</td><td>str</td><td>u32</td><td>i64</td><td>str</td><td>str</td></tr></thead><tbody><tr><td>10026</td><td>2018-12-31</td><td>0.001728</td><td>2019-01-04</td><td>&quot;JJSF&quot;</td><td>&quot;J &amp; J SNACK FOODS CORP&quot;</td><td>3</td><td>106500</td><td>&quot;1996-01-02&quot;</td><td>&quot;2024-12-31&quot;</td></tr><tr><td>10026</td><td>2019-01-07</td><td>0.027962</td><td>2019-01-11</td><td>&quot;JJSF&quot;</td><td>&quot;J &amp; J SNACK FOODS CORP&quot;</td><td>5</td><td>106500</td><td>&quot;1996-01-02&quot;</td><td>&quot;2024-12-31&quot;</td></tr><tr><td>10026</td><td>2019-01-14</td><td>-0.011082</td><td>2019-01-18</td><td>&quot;JJSF&quot;</td><td>&quot;J &amp; J SNACK FOODS CORP&quot;</td><td>5</td><td>106500</td><td>&quot;1996-01-02&quot;</td><td>&quot;2024-12-31&quot;</td></tr><tr><td>10026</td><td>2019-01-21</td><td>-0.018268</td><td>2019-01-25</td><td>&quot;JJSF&quot;</td><td>&quot;J &amp; J SNACK FOODS CORP&quot;</td><td>4</td><td>106500</td><td>&quot;1996-01-02&quot;</td><td>&quot;2024-12-31&quot;</td></tr><tr><td>10026</td><td>2019-01-28</td><td>0.070909</td><td>2019-02-01</td><td>&quot;JJSF&quot;</td><td>&quot;J &amp; J SNACK FOODS CORP&quot;</td><td>5</td><td>106500</td><td>&quot;1996-01-02&quot;</td><td>&quot;2024-12-31&quot;</td></tr><tr><td>&hellip;</td><td>&hellip;</td><td>&hellip;</td><td>&hellip;</td><td>&hellip;</td><td>&hellip;</td><td>&hellip;</td><td>&hellip;</td><td>&hellip;</td><td>&hellip;</td></tr><tr><td>93436</td><td>2023-11-27</td><td>0.014355</td><td>2023-12-01</td><td>&quot;TSLA&quot;</td><td>&quot;TESLA INC&quot;</td><td>5</td><td>143439</td><td>&quot;2010-06-29&quot;</td><td>&quot;2024-12-31&quot;</td></tr><tr><td>93436</td><td>2023-12-04</td><td>0.020978</td><td>2023-12-08</td><td>&quot;TSLA&quot;</td><td>&quot;TESLA INC&quot;</td><td>5</td><td>143439</td><td>&quot;2010-06-29&quot;</td><td>&quot;2024-12-31&quot;</td></tr><tr><td>93436</td><td>2023-12-11</td><td>0.039617</td><td>2023-12-15</td><td>&quot;TSLA&quot;</td><td>&quot;TESLA INC&quot;</td><td>5</td><td>143439</td><td>&quot;2010-06-29&quot;</td><td>&quot;2024-12-31&quot;</td></tr><tr><td>93436</td><td>2023-12-18</td><td>-0.003787</td><td>2023-12-22</td><td>&quot;TSLA&quot;</td><td>&quot;TESLA INC&quot;</td><td>5</td><td>143439</td><td>&quot;2010-06-29&quot;</td><td>&quot;2024-12-31&quot;</td></tr><tr><td>93436</td><td>2023-12-25</td><td>-0.016077</td><td>2023-12-29</td><td>&quot;TSLA&quot;</td><td>&quot;TESLA INC&quot;</td><td>4</td><td>143439</td><td>&quot;2010-06-29&quot;</td><td>&quot;2024-12-31&quot;</td></tr></tbody></table></div>"
      ],
      "text/plain": [
       "shape: (3_070_490, 10)\n",
       "┌────────┬────────────┬────────────┬────────────┬───┬────────────┬────────┬────────────┬───────────┐\n",
       "│ PERMNO ┆ week_start ┆ weekly_ret ┆ week_end   ┆ … ┆ trading_da ┆ secid  ┆ sdate      ┆ edate     │\n",
       "│ ---    ┆ ---        ┆ urn        ┆ ---        ┆   ┆ ys         ┆ ---    ┆ ---        ┆ ---       │\n",
       "│ i64    ┆ date       ┆ ---        ┆ date       ┆   ┆ ---        ┆ i64    ┆ str        ┆ str       │\n",
       "│        ┆            ┆ f64        ┆            ┆   ┆ u32        ┆        ┆            ┆           │\n",
       "╞════════╪════════════╪════════════╪════════════╪═══╪════════════╪════════╪════════════╪═══════════╡\n",
       "│ 10026  ┆ 2018-12-31 ┆ 0.001728   ┆ 2019-01-04 ┆ … ┆ 3          ┆ 106500 ┆ 1996-01-02 ┆ 2024-12-3 │\n",
       "│        ┆            ┆            ┆            ┆   ┆            ┆        ┆            ┆ 1         │\n",
       "│ 10026  ┆ 2019-01-07 ┆ 0.027962   ┆ 2019-01-11 ┆ … ┆ 5          ┆ 106500 ┆ 1996-01-02 ┆ 2024-12-3 │\n",
       "│        ┆            ┆            ┆            ┆   ┆            ┆        ┆            ┆ 1         │\n",
       "│ 10026  ┆ 2019-01-14 ┆ -0.011082  ┆ 2019-01-18 ┆ … ┆ 5          ┆ 106500 ┆ 1996-01-02 ┆ 2024-12-3 │\n",
       "│        ┆            ┆            ┆            ┆   ┆            ┆        ┆            ┆ 1         │\n",
       "│ 10026  ┆ 2019-01-21 ┆ -0.018268  ┆ 2019-01-25 ┆ … ┆ 4          ┆ 106500 ┆ 1996-01-02 ┆ 2024-12-3 │\n",
       "│        ┆            ┆            ┆            ┆   ┆            ┆        ┆            ┆ 1         │\n",
       "│ 10026  ┆ 2019-01-28 ┆ 0.070909   ┆ 2019-02-01 ┆ … ┆ 5          ┆ 106500 ┆ 1996-01-02 ┆ 2024-12-3 │\n",
       "│        ┆            ┆            ┆            ┆   ┆            ┆        ┆            ┆ 1         │\n",
       "│ …      ┆ …          ┆ …          ┆ …          ┆ … ┆ …          ┆ …      ┆ …          ┆ …         │\n",
       "│ 93436  ┆ 2023-11-27 ┆ 0.014355   ┆ 2023-12-01 ┆ … ┆ 5          ┆ 143439 ┆ 2010-06-29 ┆ 2024-12-3 │\n",
       "│        ┆            ┆            ┆            ┆   ┆            ┆        ┆            ┆ 1         │\n",
       "│ 93436  ┆ 2023-12-04 ┆ 0.020978   ┆ 2023-12-08 ┆ … ┆ 5          ┆ 143439 ┆ 2010-06-29 ┆ 2024-12-3 │\n",
       "│        ┆            ┆            ┆            ┆   ┆            ┆        ┆            ┆ 1         │\n",
       "│ 93436  ┆ 2023-12-11 ┆ 0.039617   ┆ 2023-12-15 ┆ … ┆ 5          ┆ 143439 ┆ 2010-06-29 ┆ 2024-12-3 │\n",
       "│        ┆            ┆            ┆            ┆   ┆            ┆        ┆            ┆ 1         │\n",
       "│ 93436  ┆ 2023-12-18 ┆ -0.003787  ┆ 2023-12-22 ┆ … ┆ 5          ┆ 143439 ┆ 2010-06-29 ┆ 2024-12-3 │\n",
       "│        ┆            ┆            ┆            ┆   ┆            ┆        ┆            ┆ 1         │\n",
       "│ 93436  ┆ 2023-12-25 ┆ -0.016077  ┆ 2023-12-29 ┆ … ┆ 4          ┆ 143439 ┆ 2010-06-29 ┆ 2024-12-3 │\n",
       "│        ┆            ┆            ┆            ┆   ┆            ┆        ┆            ┆ 1         │\n",
       "└────────┴────────────┴────────────┴────────────┴───┴────────────┴────────┴────────────┴───────────┘"
      ]
     },
     "execution_count": 10,
     "metadata": {},
     "output_type": "execute_result"
    }
   ],
   "source": [
    "# Add secid to weekly returns for joining with options data\n",
    "weekly_ret_df = weekly_ret_df.join(filtered_map, on=\"PERMNO\")\n",
    "weekly_ret_df\n"
   ]
  },
  {
   "cell_type": "markdown",
   "id": "a75a9b64",
   "metadata": {},
   "source": [
    "## 4. Volatility Skew Calculation\n",
    "\n",
    "### 4.1 Methodology\n",
    "\n",
    "Computing weekly implied volatility skew by comparing average call and put IVs within specified moneyness ranges. The skew metric captures the asymmetry in the volatility smile, which can indicate market sentiment and forward-looking risk perceptions."
   ]
  },
  {
   "cell_type": "markdown",
   "id": "a725b6b4",
   "metadata": {},
   "source": [
    "### 4.2 Weekly IV Skew Function\n",
    "\n",
    "This function computes weighted average implied volatility skew on a weekly basis, filtering for options within a specified DTE range and moneyness bands. Multiple weighting schemes are supported (equal, weekday-based, linear, exponential)."
   ]
  },
  {
   "cell_type": "code",
   "execution_count": 11,
   "id": "2d65430c",
   "metadata": {},
   "outputs": [],
   "source": [
    "def compute_weekly_iv_skew_streaming(\n",
    "    csv_path: str,\n",
    "    dte_limit: int = 60,\n",
    "    call_range: tuple[float, float] = (0.95, 1.05),\n",
    "    put_range: tuple[float, float] = (0.85, 1.05),\n",
    "    weight_scheme: str = \"weekday\",   # \"equal\" | \"weekday\" | \"linear\" | \"exp\"\n",
    "    alpha: float = 0.3,               # for \"exp\": weight = exp(alpha * (pos-1))\n",
    "    streaming: bool = True,           # set False if using \"linear\"/\"exp\" (windowed)\n",
    ") -> pl.DataFrame:\n",
    "    c = pl.col\n",
    "\n",
    "    # Use scan_csv to stay lazy/streaming; parse date at read-time\n",
    "    lf = pl.scan_csv(\n",
    "    csv_path,\n",
    "    schema_overrides={\n",
    "        \"secid\": pl.Int64,\n",
    "        \"date\": pl.Date,\n",
    "        \"tte\": pl.Int32,\n",
    "        \"impl_volatility\": pl.Float32,\n",
    "        \"cp_flag\": pl.Categorical,\n",
    "        \"moneyness\": pl.Float32,\n",
    "    },\n",
    ").select([\"secid\", \"date\", \"tte\", \"impl_volatility\", \"cp_flag\", \"moneyness\"])\n",
    "\n",
    "    opt = (\n",
    "        lf\n",
    "        .filter(\n",
    "            (c(\"tte\") < dte_limit)\n",
    "            & c(\"moneyness\").is_not_null()\n",
    "            & c(\"impl_volatility\").is_finite()\n",
    "        )\n",
    "        .with_columns([\n",
    "            # Monday-anchored calendar week; only trading days exist\n",
    "            c(\"date\").dt.truncate(\"1w\").alias(\"week_start\"),\n",
    "            # mark eligible call/put IVs\n",
    "            pl.when(\n",
    "                (c(\"cp_flag\") == \"C\")\n",
    "                & (c(\"moneyness\") >= call_range[0])\n",
    "                & (c(\"moneyness\") <= call_range[1])\n",
    "            ).then(c(\"impl_volatility\")).otherwise(None).alias(\"call_iv\"),\n",
    "            pl.when(\n",
    "                (c(\"cp_flag\") == \"P\")\n",
    "                & (c(\"moneyness\") >= put_range[0])\n",
    "                & (c(\"moneyness\") <= put_range[1])\n",
    "            ).then(c(\"impl_volatility\")).otherwise(None).alias(\"put_iv\"),\n",
    "        ])\n",
    "    )\n",
    "\n",
    "    # Daily skew per secid/date\n",
    "    daily = (\n",
    "        opt.group_by([\"secid\", \"date\", \"week_start\"])\n",
    "           .agg([\n",
    "               pl.mean(\"call_iv\").alias(\"call_iv_d\"),\n",
    "               pl.mean(\"put_iv\").alias(\"put_iv_d\"),\n",
    "           ])\n",
    "           .filter(c(\"call_iv_d\").is_not_null() & c(\"put_iv_d\").is_not_null())\n",
    "           .with_columns((c(\"call_iv_d\") - c(\"put_iv_d\")).alias(\"skew_d\"))\n",
    "    )\n",
    "\n",
    "    # Weights\n",
    "    if weight_scheme == \"equal\":\n",
    "        daily_w = daily.with_columns(pl.lit(1.0).alias(\"w\"))\n",
    "        allow_stream = True\n",
    "    elif weight_scheme == \"weekday\":\n",
    "        # Mon..Fri -> 1..5 (holidays/short weeks handled naturally)\n",
    "        daily_w = daily.with_columns((c(\"date\").dt.weekday() + 1).cast(pl.Float32).alias(\"w\"))\n",
    "        allow_stream = True\n",
    "    elif weight_scheme in (\"linear\", \"exp\"):\n",
    "        # Position within week (1..N) requires a window; may disable streaming\n",
    "        daily_w = (\n",
    "            daily.sort([\"secid\", \"week_start\", \"date\"])\n",
    "                 .with_columns((pl.cum_count().over([\"secid\", \"week_start\"]) + 1).alias(\"pos\"))\n",
    "                 .with_columns(\n",
    "                     pl.when(weight_scheme == \"linear\")\n",
    "                       .then(c(\"pos\").cast(pl.Float32))\n",
    "                       .otherwise((pl.lit(alpha) * (c(\"pos\") - 1)).exp().cast(pl.Float32))\n",
    "                       .alias(\"w\")\n",
    "                 )\n",
    "        )\n",
    "        allow_stream = False\n",
    "    else:\n",
    "        raise ValueError(\"weight_scheme must be one of {'equal','weekday','linear','exp'}\")\n",
    "\n",
    "    weekly = (\n",
    "        daily_w.group_by([\"secid\", \"week_start\"])\n",
    "               .agg([\n",
    "                   ((c(\"skew_d\") * c(\"w\")).sum() / c(\"w\").sum()).alias(\"IV_skew\"),\n",
    "                   pl.max(\"date\").alias(\"week_end\"),  # last trading day in week\n",
    "               ])\n",
    "               .sort([\"secid\", \"week_start\"])\n",
    "               .select([\"secid\", \"week_start\", \"week_end\", \"IV_skew\"])\n",
    "    )\n",
    "\n",
    "    return weekly.collect(streaming=(streaming and allow_stream))"
   ]
  },
  {
   "cell_type": "markdown",
   "id": "6f4ba8a3",
   "metadata": {},
   "source": [
    "### 4.3 Computing Weekly Skew Metrics\n",
    "\n",
    "Applying the IV skew computation with weekday-weighted averaging to capture intra-week dynamics in option pricing.\n"
   ]
  },
  {
   "cell_type": "code",
   "execution_count": 12,
   "id": "46a5cb52",
   "metadata": {},
   "outputs": [],
   "source": [
    "weekly_option_df = compute_weekly_iv_skew_streaming(\n",
    "    \"./raw_data/options_data.csv\",\n",
    "    dte_limit=60,\n",
    "    weight_scheme=\"weekday\",   # or \"equal\" / \"linear\" / \"exp\"\n",
    "    alpha=0.4,                 # only used for \"exp\"\n",
    ")\n",
    "\n"
   ]
  },
  {
   "cell_type": "code",
   "execution_count": 13,
   "id": "2d389793",
   "metadata": {},
   "outputs": [
    {
     "data": {
      "text/html": [
       "<div><style>\n",
       ".dataframe > thead > tr,\n",
       ".dataframe > tbody > tr {\n",
       "  text-align: right;\n",
       "  white-space: pre-wrap;\n",
       "}\n",
       "</style>\n",
       "<small>shape: (514_760, 4)</small><table border=\"1\" class=\"dataframe\"><thead><tr><th>secid</th><th>week_start</th><th>week_end</th><th>IV_skew</th></tr><tr><td>i64</td><td>date</td><td>date</td><td>f32</td></tr></thead><tbody><tr><td>5594</td><td>2021-11-08</td><td>2021-11-11</td><td>0.076602</td></tr><tr><td>5594</td><td>2021-11-15</td><td>2021-11-19</td><td>0.028996</td></tr><tr><td>5594</td><td>2021-11-22</td><td>2021-11-24</td><td>0.044062</td></tr><tr><td>6646</td><td>2020-10-26</td><td>2020-10-26</td><td>-0.037153</td></tr><tr><td>6646</td><td>2020-11-16</td><td>2020-11-18</td><td>0.015387</td></tr><tr><td>&hellip;</td><td>&hellip;</td><td>&hellip;</td><td>&hellip;</td></tr><tr><td>218532</td><td>2023-08-21</td><td>2023-08-25</td><td>0.010728</td></tr><tr><td>218532</td><td>2023-08-28</td><td>2023-08-31</td><td>0.503919</td></tr><tr><td>218609</td><td>2023-08-14</td><td>2023-08-18</td><td>0.011428</td></tr><tr><td>218609</td><td>2023-08-21</td><td>2023-08-25</td><td>-0.004274</td></tr><tr><td>218609</td><td>2023-08-28</td><td>2023-08-31</td><td>0.023583</td></tr></tbody></table></div>"
      ],
      "text/plain": [
       "shape: (514_760, 4)\n",
       "┌────────┬────────────┬────────────┬───────────┐\n",
       "│ secid  ┆ week_start ┆ week_end   ┆ IV_skew   │\n",
       "│ ---    ┆ ---        ┆ ---        ┆ ---       │\n",
       "│ i64    ┆ date       ┆ date       ┆ f32       │\n",
       "╞════════╪════════════╪════════════╪═══════════╡\n",
       "│ 5594   ┆ 2021-11-08 ┆ 2021-11-11 ┆ 0.076602  │\n",
       "│ 5594   ┆ 2021-11-15 ┆ 2021-11-19 ┆ 0.028996  │\n",
       "│ 5594   ┆ 2021-11-22 ┆ 2021-11-24 ┆ 0.044062  │\n",
       "│ 6646   ┆ 2020-10-26 ┆ 2020-10-26 ┆ -0.037153 │\n",
       "│ 6646   ┆ 2020-11-16 ┆ 2020-11-18 ┆ 0.015387  │\n",
       "│ …      ┆ …          ┆ …          ┆ …         │\n",
       "│ 218532 ┆ 2023-08-21 ┆ 2023-08-25 ┆ 0.010728  │\n",
       "│ 218532 ┆ 2023-08-28 ┆ 2023-08-31 ┆ 0.503919  │\n",
       "│ 218609 ┆ 2023-08-14 ┆ 2023-08-18 ┆ 0.011428  │\n",
       "│ 218609 ┆ 2023-08-21 ┆ 2023-08-25 ┆ -0.004274 │\n",
       "│ 218609 ┆ 2023-08-28 ┆ 2023-08-31 ┆ 0.023583  │\n",
       "└────────┴────────────┴────────────┴───────────┘"
      ]
     },
     "execution_count": 13,
     "metadata": {},
     "output_type": "execute_result"
    }
   ],
   "source": [
    "weekly_option_df\n"
   ]
  },
  {
   "cell_type": "markdown",
   "id": "5c09c611",
   "metadata": {},
   "source": [
    "## Joining options and returns data into one dataframe"
   ]
  },
  {
   "cell_type": "code",
   "execution_count": 14,
   "id": "873c2851",
   "metadata": {},
   "outputs": [],
   "source": [
    "merged_df = (\n",
    "    weekly_option_df\n",
    "    .join(\n",
    "        weekly_ret_df.with_columns([\n",
    "            (pl.col(\"week_start\") - pl.duration(days=7)).alias(\"prev_week_start\")\n",
    "        ]),\n",
    "        left_on=[\"secid\", \"week_start\"],\n",
    "        right_on=[\"secid\", \"prev_week_start\"],\n",
    "        how=\"left\"\n",
    "    )\n",
    ")"
   ]
  },
  {
   "cell_type": "code",
   "execution_count": 15,
   "id": "49a1e89f",
   "metadata": {},
   "outputs": [
    {
     "data": {
      "text/html": [
       "<div><style>\n",
       ".dataframe > thead > tr,\n",
       ".dataframe > tbody > tr {\n",
       "  text-align: right;\n",
       "  white-space: pre-wrap;\n",
       "}\n",
       "</style>\n",
       "<small>shape: (514_768, 13)</small><table border=\"1\" class=\"dataframe\"><thead><tr><th>secid</th><th>week_start</th><th>week_end</th><th>IV_skew</th><th>PERMNO</th><th>week_start_right</th><th>weekly_return</th><th>week_end_right</th><th>TICKER</th><th>COMNAM</th><th>trading_days</th><th>sdate</th><th>edate</th></tr><tr><td>i64</td><td>date</td><td>date</td><td>f32</td><td>i64</td><td>date</td><td>f64</td><td>date</td><td>str</td><td>str</td><td>u32</td><td>str</td><td>str</td></tr></thead><tbody><tr><td>5594</td><td>2021-11-08</td><td>2021-11-11</td><td>0.076602</td><td>52250</td><td>2021-11-15</td><td>-0.0016</td><td>2021-11-19</td><td>&quot;GENC&quot;</td><td>&quot;GENCOR INDUSTRIES INC&quot;</td><td>5</td><td>&quot;1996-01-01&quot;</td><td>&quot;2024-12-31&quot;</td></tr><tr><td>5594</td><td>2021-11-15</td><td>2021-11-19</td><td>0.028996</td><td>52250</td><td>2021-11-22</td><td>-0.060095</td><td>2021-11-26</td><td>&quot;GENC&quot;</td><td>&quot;GENCOR INDUSTRIES INC&quot;</td><td>4</td><td>&quot;1996-01-01&quot;</td><td>&quot;2024-12-31&quot;</td></tr><tr><td>5594</td><td>2021-11-22</td><td>2021-11-24</td><td>0.044062</td><td>52250</td><td>2021-11-29</td><td>-0.019608</td><td>2021-12-03</td><td>&quot;GENC&quot;</td><td>&quot;GENCOR INDUSTRIES INC&quot;</td><td>5</td><td>&quot;1996-01-01&quot;</td><td>&quot;2024-12-31&quot;</td></tr><tr><td>6646</td><td>2020-10-26</td><td>2020-10-26</td><td>-0.037153</td><td>75672</td><td>2020-11-02</td><td>-0.068293</td><td>2020-11-06</td><td>&quot;WWR&quot;</td><td>&quot;WESTWATER RESOURCES INC&quot;</td><td>5</td><td>&quot;1996-01-01&quot;</td><td>&quot;2024-12-31&quot;</td></tr><tr><td>6646</td><td>2020-11-16</td><td>2020-11-18</td><td>0.015387</td><td>75672</td><td>2020-11-23</td><td>-0.119448</td><td>2020-11-27</td><td>&quot;WWR&quot;</td><td>&quot;WESTWATER RESOURCES INC&quot;</td><td>4</td><td>&quot;1996-01-01&quot;</td><td>&quot;2024-12-31&quot;</td></tr><tr><td>&hellip;</td><td>&hellip;</td><td>&hellip;</td><td>&hellip;</td><td>&hellip;</td><td>&hellip;</td><td>&hellip;</td><td>&hellip;</td><td>&hellip;</td><td>&hellip;</td><td>&hellip;</td><td>&hellip;</td><td>&hellip;</td></tr><tr><td>218532</td><td>2023-08-21</td><td>2023-08-25</td><td>0.010728</td><td>16592</td><td>2023-08-28</td><td>0.059203</td><td>2023-09-01</td><td>&quot;METC&quot;</td><td>&quot;RAMACO RESOURCES INC&quot;</td><td>5</td><td>&quot;2023-06-22&quot;</td><td>&quot;2024-12-31&quot;</td></tr><tr><td>218532</td><td>2023-08-28</td><td>2023-08-31</td><td>0.503919</td><td>16592</td><td>2023-09-04</td><td>-0.022277</td><td>2023-09-08</td><td>&quot;METC&quot;</td><td>&quot;RAMACO RESOURCES INC&quot;</td><td>4</td><td>&quot;2023-06-22&quot;</td><td>&quot;2024-12-31&quot;</td></tr><tr><td>218609</td><td>2023-08-14</td><td>2023-08-18</td><td>0.011428</td><td>12373</td><td>2023-08-21</td><td>0.008978</td><td>2023-08-25</td><td>&quot;HHH&quot;</td><td>&quot;HOWARD HUGHES HOLDINGS INC&quot;</td><td>5</td><td>&quot;2023-08-14&quot;</td><td>&quot;2024-12-31&quot;</td></tr><tr><td>218609</td><td>2023-08-21</td><td>2023-08-25</td><td>-0.004274</td><td>12373</td><td>2023-08-28</td><td>0.048416</td><td>2023-09-01</td><td>&quot;HHH&quot;</td><td>&quot;HOWARD HUGHES HOLDINGS INC&quot;</td><td>5</td><td>&quot;2023-08-14&quot;</td><td>&quot;2024-12-31&quot;</td></tr><tr><td>218609</td><td>2023-08-28</td><td>2023-08-31</td><td>0.023583</td><td>12373</td><td>2023-09-04</td><td>-0.037069</td><td>2023-09-08</td><td>&quot;HHH&quot;</td><td>&quot;HOWARD HUGHES HOLDINGS INC&quot;</td><td>4</td><td>&quot;2023-08-14&quot;</td><td>&quot;2024-12-31&quot;</td></tr></tbody></table></div>"
      ],
      "text/plain": [
       "shape: (514_768, 13)\n",
       "┌────────┬────────────┬────────────┬───────────┬───┬───────────┬───────────┬───────────┬───────────┐\n",
       "│ secid  ┆ week_start ┆ week_end   ┆ IV_skew   ┆ … ┆ COMNAM    ┆ trading_d ┆ sdate     ┆ edate     │\n",
       "│ ---    ┆ ---        ┆ ---        ┆ ---       ┆   ┆ ---       ┆ ays       ┆ ---       ┆ ---       │\n",
       "│ i64    ┆ date       ┆ date       ┆ f32       ┆   ┆ str       ┆ ---       ┆ str       ┆ str       │\n",
       "│        ┆            ┆            ┆           ┆   ┆           ┆ u32       ┆           ┆           │\n",
       "╞════════╪════════════╪════════════╪═══════════╪═══╪═══════════╪═══════════╪═══════════╪═══════════╡\n",
       "│ 5594   ┆ 2021-11-08 ┆ 2021-11-11 ┆ 0.076602  ┆ … ┆ GENCOR    ┆ 5         ┆ 1996-01-0 ┆ 2024-12-3 │\n",
       "│        ┆            ┆            ┆           ┆   ┆ INDUSTRIE ┆           ┆ 1         ┆ 1         │\n",
       "│        ┆            ┆            ┆           ┆   ┆ S INC     ┆           ┆           ┆           │\n",
       "│ 5594   ┆ 2021-11-15 ┆ 2021-11-19 ┆ 0.028996  ┆ … ┆ GENCOR    ┆ 4         ┆ 1996-01-0 ┆ 2024-12-3 │\n",
       "│        ┆            ┆            ┆           ┆   ┆ INDUSTRIE ┆           ┆ 1         ┆ 1         │\n",
       "│        ┆            ┆            ┆           ┆   ┆ S INC     ┆           ┆           ┆           │\n",
       "│ 5594   ┆ 2021-11-22 ┆ 2021-11-24 ┆ 0.044062  ┆ … ┆ GENCOR    ┆ 5         ┆ 1996-01-0 ┆ 2024-12-3 │\n",
       "│        ┆            ┆            ┆           ┆   ┆ INDUSTRIE ┆           ┆ 1         ┆ 1         │\n",
       "│        ┆            ┆            ┆           ┆   ┆ S INC     ┆           ┆           ┆           │\n",
       "│ 6646   ┆ 2020-10-26 ┆ 2020-10-26 ┆ -0.037153 ┆ … ┆ WESTWATER ┆ 5         ┆ 1996-01-0 ┆ 2024-12-3 │\n",
       "│        ┆            ┆            ┆           ┆   ┆ RESOURCES ┆           ┆ 1         ┆ 1         │\n",
       "│        ┆            ┆            ┆           ┆   ┆ INC       ┆           ┆           ┆           │\n",
       "│ 6646   ┆ 2020-11-16 ┆ 2020-11-18 ┆ 0.015387  ┆ … ┆ WESTWATER ┆ 4         ┆ 1996-01-0 ┆ 2024-12-3 │\n",
       "│        ┆            ┆            ┆           ┆   ┆ RESOURCES ┆           ┆ 1         ┆ 1         │\n",
       "│        ┆            ┆            ┆           ┆   ┆ INC       ┆           ┆           ┆           │\n",
       "│ …      ┆ …          ┆ …          ┆ …         ┆ … ┆ …         ┆ …         ┆ …         ┆ …         │\n",
       "│ 218532 ┆ 2023-08-21 ┆ 2023-08-25 ┆ 0.010728  ┆ … ┆ RAMACO    ┆ 5         ┆ 2023-06-2 ┆ 2024-12-3 │\n",
       "│        ┆            ┆            ┆           ┆   ┆ RESOURCES ┆           ┆ 2         ┆ 1         │\n",
       "│        ┆            ┆            ┆           ┆   ┆ INC       ┆           ┆           ┆           │\n",
       "│ 218532 ┆ 2023-08-28 ┆ 2023-08-31 ┆ 0.503919  ┆ … ┆ RAMACO    ┆ 4         ┆ 2023-06-2 ┆ 2024-12-3 │\n",
       "│        ┆            ┆            ┆           ┆   ┆ RESOURCES ┆           ┆ 2         ┆ 1         │\n",
       "│        ┆            ┆            ┆           ┆   ┆ INC       ┆           ┆           ┆           │\n",
       "│ 218609 ┆ 2023-08-14 ┆ 2023-08-18 ┆ 0.011428  ┆ … ┆ HOWARD    ┆ 5         ┆ 2023-08-1 ┆ 2024-12-3 │\n",
       "│        ┆            ┆            ┆           ┆   ┆ HUGHES    ┆           ┆ 4         ┆ 1         │\n",
       "│        ┆            ┆            ┆           ┆   ┆ HOLDINGS  ┆           ┆           ┆           │\n",
       "│        ┆            ┆            ┆           ┆   ┆ INC       ┆           ┆           ┆           │\n",
       "│ 218609 ┆ 2023-08-21 ┆ 2023-08-25 ┆ -0.004274 ┆ … ┆ HOWARD    ┆ 5         ┆ 2023-08-1 ┆ 2024-12-3 │\n",
       "│        ┆            ┆            ┆           ┆   ┆ HUGHES    ┆           ┆ 4         ┆ 1         │\n",
       "│        ┆            ┆            ┆           ┆   ┆ HOLDINGS  ┆           ┆           ┆           │\n",
       "│        ┆            ┆            ┆           ┆   ┆ INC       ┆           ┆           ┆           │\n",
       "│ 218609 ┆ 2023-08-28 ┆ 2023-08-31 ┆ 0.023583  ┆ … ┆ HOWARD    ┆ 4         ┆ 2023-08-1 ┆ 2024-12-3 │\n",
       "│        ┆            ┆            ┆           ┆   ┆ HUGHES    ┆           ┆ 4         ┆ 1         │\n",
       "│        ┆            ┆            ┆           ┆   ┆ HOLDINGS  ┆           ┆           ┆           │\n",
       "│        ┆            ┆            ┆           ┆   ┆ INC       ┆           ┆           ┆           │\n",
       "└────────┴────────────┴────────────┴───────────┴───┴───────────┴───────────┴───────────┴───────────┘"
      ]
     },
     "execution_count": 15,
     "metadata": {},
     "output_type": "execute_result"
    }
   ],
   "source": [
    "merged_df"
   ]
  },
  {
   "cell_type": "markdown",
   "id": "c21e0d9f",
   "metadata": {},
   "source": [
    "# Now building up other factors for our regression"
   ]
  },
  {
   "cell_type": "code",
   "execution_count": 16,
   "id": "10c6e809",
   "metadata": {},
   "outputs": [
    {
     "data": {
      "text/html": [
       "<div>\n",
       "<style scoped>\n",
       "    .dataframe tbody tr th:only-of-type {\n",
       "        vertical-align: middle;\n",
       "    }\n",
       "\n",
       "    .dataframe tbody tr th {\n",
       "        vertical-align: top;\n",
       "    }\n",
       "\n",
       "    .dataframe thead th {\n",
       "        text-align: right;\n",
       "    }\n",
       "</style>\n",
       "<table border=\"1\" class=\"dataframe\">\n",
       "  <thead>\n",
       "    <tr style=\"text-align: right;\">\n",
       "      <th></th>\n",
       "      <th>Date</th>\n",
       "      <th>Mkt-RF</th>\n",
       "      <th>SMB</th>\n",
       "      <th>HML</th>\n",
       "      <th>RF</th>\n",
       "    </tr>\n",
       "  </thead>\n",
       "  <tbody>\n",
       "    <tr>\n",
       "      <th>0</th>\n",
       "      <td>19260702</td>\n",
       "      <td>1.58</td>\n",
       "      <td>-0.62</td>\n",
       "      <td>-0.86</td>\n",
       "      <td>0.06</td>\n",
       "    </tr>\n",
       "    <tr>\n",
       "      <th>1</th>\n",
       "      <td>19260710</td>\n",
       "      <td>0.37</td>\n",
       "      <td>-0.90</td>\n",
       "      <td>0.31</td>\n",
       "      <td>0.06</td>\n",
       "    </tr>\n",
       "    <tr>\n",
       "      <th>2</th>\n",
       "      <td>19260717</td>\n",
       "      <td>0.98</td>\n",
       "      <td>0.59</td>\n",
       "      <td>-1.44</td>\n",
       "      <td>0.06</td>\n",
       "    </tr>\n",
       "    <tr>\n",
       "      <th>3</th>\n",
       "      <td>19260724</td>\n",
       "      <td>-2.03</td>\n",
       "      <td>0.02</td>\n",
       "      <td>-0.17</td>\n",
       "      <td>0.06</td>\n",
       "    </tr>\n",
       "    <tr>\n",
       "      <th>4</th>\n",
       "      <td>19260731</td>\n",
       "      <td>3.06</td>\n",
       "      <td>-1.89</td>\n",
       "      <td>-0.85</td>\n",
       "      <td>0.06</td>\n",
       "    </tr>\n",
       "    <tr>\n",
       "      <th>...</th>\n",
       "      <td>...</td>\n",
       "      <td>...</td>\n",
       "      <td>...</td>\n",
       "      <td>...</td>\n",
       "      <td>...</td>\n",
       "    </tr>\n",
       "    <tr>\n",
       "      <th>5169</th>\n",
       "      <td>20250801</td>\n",
       "      <td>-2.52</td>\n",
       "      <td>-2.15</td>\n",
       "      <td>-2.02</td>\n",
       "      <td>0.09</td>\n",
       "    </tr>\n",
       "    <tr>\n",
       "      <th>5170</th>\n",
       "      <td>20250808</td>\n",
       "      <td>2.38</td>\n",
       "      <td>0.44</td>\n",
       "      <td>-0.80</td>\n",
       "      <td>0.09</td>\n",
       "    </tr>\n",
       "    <tr>\n",
       "      <th>5171</th>\n",
       "      <td>20250815</td>\n",
       "      <td>1.02</td>\n",
       "      <td>2.12</td>\n",
       "      <td>1.08</td>\n",
       "      <td>0.09</td>\n",
       "    </tr>\n",
       "    <tr>\n",
       "      <th>5172</th>\n",
       "      <td>20250822</td>\n",
       "      <td>0.34</td>\n",
       "      <td>1.84</td>\n",
       "      <td>2.88</td>\n",
       "      <td>0.09</td>\n",
       "    </tr>\n",
       "    <tr>\n",
       "      <th>5173</th>\n",
       "      <td>20250829</td>\n",
       "      <td>-0.14</td>\n",
       "      <td>-0.16</td>\n",
       "      <td>1.24</td>\n",
       "      <td>0.09</td>\n",
       "    </tr>\n",
       "  </tbody>\n",
       "</table>\n",
       "<p>5174 rows × 5 columns</p>\n",
       "</div>"
      ],
      "text/plain": [
       "          Date  Mkt-RF   SMB   HML    RF\n",
       "0     19260702    1.58 -0.62 -0.86  0.06\n",
       "1     19260710    0.37 -0.90  0.31  0.06\n",
       "2     19260717    0.98  0.59 -1.44  0.06\n",
       "3     19260724   -2.03  0.02 -0.17  0.06\n",
       "4     19260731    3.06 -1.89 -0.85  0.06\n",
       "...        ...     ...   ...   ...   ...\n",
       "5169  20250801   -2.52 -2.15 -2.02  0.09\n",
       "5170  20250808    2.38  0.44 -0.80  0.09\n",
       "5171  20250815    1.02  2.12  1.08  0.09\n",
       "5172  20250822    0.34  1.84  2.88  0.09\n",
       "5173  20250829   -0.14 -0.16  1.24  0.09\n",
       "\n",
       "[5174 rows x 5 columns]"
      ]
     },
     "execution_count": 16,
     "metadata": {},
     "output_type": "execute_result"
    }
   ],
   "source": [
    "ff3_factors = pd.read_csv('raw_data/F-F_Research_Data_Factors_weekly.csv')\n",
    "ff3_factors "
   ]
  },
  {
   "cell_type": "code",
   "execution_count": 17,
   "id": "6102586e",
   "metadata": {},
   "outputs": [
    {
     "data": {
      "text/html": [
       "<div>\n",
       "<style scoped>\n",
       "    .dataframe tbody tr th:only-of-type {\n",
       "        vertical-align: middle;\n",
       "    }\n",
       "\n",
       "    .dataframe tbody tr th {\n",
       "        vertical-align: top;\n",
       "    }\n",
       "\n",
       "    .dataframe thead th {\n",
       "        text-align: right;\n",
       "    }\n",
       "</style>\n",
       "<table border=\"1\" class=\"dataframe\">\n",
       "  <thead>\n",
       "    <tr style=\"text-align: right;\">\n",
       "      <th></th>\n",
       "      <th>Date</th>\n",
       "      <th>Mkt-RF</th>\n",
       "      <th>SMB</th>\n",
       "      <th>HML</th>\n",
       "      <th>RF</th>\n",
       "    </tr>\n",
       "  </thead>\n",
       "  <tbody>\n",
       "    <tr>\n",
       "      <th>0</th>\n",
       "      <td>19260702</td>\n",
       "      <td>0.0158</td>\n",
       "      <td>-0.0062</td>\n",
       "      <td>-0.0086</td>\n",
       "      <td>0.0006</td>\n",
       "    </tr>\n",
       "    <tr>\n",
       "      <th>1</th>\n",
       "      <td>19260710</td>\n",
       "      <td>0.0037</td>\n",
       "      <td>-0.0090</td>\n",
       "      <td>0.0031</td>\n",
       "      <td>0.0006</td>\n",
       "    </tr>\n",
       "    <tr>\n",
       "      <th>2</th>\n",
       "      <td>19260717</td>\n",
       "      <td>0.0098</td>\n",
       "      <td>0.0059</td>\n",
       "      <td>-0.0144</td>\n",
       "      <td>0.0006</td>\n",
       "    </tr>\n",
       "    <tr>\n",
       "      <th>3</th>\n",
       "      <td>19260724</td>\n",
       "      <td>-0.0203</td>\n",
       "      <td>0.0002</td>\n",
       "      <td>-0.0017</td>\n",
       "      <td>0.0006</td>\n",
       "    </tr>\n",
       "    <tr>\n",
       "      <th>4</th>\n",
       "      <td>19260731</td>\n",
       "      <td>0.0306</td>\n",
       "      <td>-0.0189</td>\n",
       "      <td>-0.0085</td>\n",
       "      <td>0.0006</td>\n",
       "    </tr>\n",
       "    <tr>\n",
       "      <th>...</th>\n",
       "      <td>...</td>\n",
       "      <td>...</td>\n",
       "      <td>...</td>\n",
       "      <td>...</td>\n",
       "      <td>...</td>\n",
       "    </tr>\n",
       "    <tr>\n",
       "      <th>5169</th>\n",
       "      <td>20250801</td>\n",
       "      <td>-0.0252</td>\n",
       "      <td>-0.0215</td>\n",
       "      <td>-0.0202</td>\n",
       "      <td>0.0009</td>\n",
       "    </tr>\n",
       "    <tr>\n",
       "      <th>5170</th>\n",
       "      <td>20250808</td>\n",
       "      <td>0.0238</td>\n",
       "      <td>0.0044</td>\n",
       "      <td>-0.0080</td>\n",
       "      <td>0.0009</td>\n",
       "    </tr>\n",
       "    <tr>\n",
       "      <th>5171</th>\n",
       "      <td>20250815</td>\n",
       "      <td>0.0102</td>\n",
       "      <td>0.0212</td>\n",
       "      <td>0.0108</td>\n",
       "      <td>0.0009</td>\n",
       "    </tr>\n",
       "    <tr>\n",
       "      <th>5172</th>\n",
       "      <td>20250822</td>\n",
       "      <td>0.0034</td>\n",
       "      <td>0.0184</td>\n",
       "      <td>0.0288</td>\n",
       "      <td>0.0009</td>\n",
       "    </tr>\n",
       "    <tr>\n",
       "      <th>5173</th>\n",
       "      <td>20250829</td>\n",
       "      <td>-0.0014</td>\n",
       "      <td>-0.0016</td>\n",
       "      <td>0.0124</td>\n",
       "      <td>0.0009</td>\n",
       "    </tr>\n",
       "  </tbody>\n",
       "</table>\n",
       "<p>5174 rows × 5 columns</p>\n",
       "</div>"
      ],
      "text/plain": [
       "          Date  Mkt-RF     SMB     HML      RF\n",
       "0     19260702  0.0158 -0.0062 -0.0086  0.0006\n",
       "1     19260710  0.0037 -0.0090  0.0031  0.0006\n",
       "2     19260717  0.0098  0.0059 -0.0144  0.0006\n",
       "3     19260724 -0.0203  0.0002 -0.0017  0.0006\n",
       "4     19260731  0.0306 -0.0189 -0.0085  0.0006\n",
       "...        ...     ...     ...     ...     ...\n",
       "5169  20250801 -0.0252 -0.0215 -0.0202  0.0009\n",
       "5170  20250808  0.0238  0.0044 -0.0080  0.0009\n",
       "5171  20250815  0.0102  0.0212  0.0108  0.0009\n",
       "5172  20250822  0.0034  0.0184  0.0288  0.0009\n",
       "5173  20250829 -0.0014 -0.0016  0.0124  0.0009\n",
       "\n",
       "[5174 rows x 5 columns]"
      ]
     },
     "execution_count": 17,
     "metadata": {},
     "output_type": "execute_result"
    }
   ],
   "source": [
    "# Divide only the factor columns by 100, not the Date column\n",
    "ff3_factors[['Mkt-RF', 'SMB', 'HML', 'RF']] = ff3_factors[['Mkt-RF', 'SMB', 'HML', 'RF']] / 100\n",
    "ff3_factors"
   ]
  },
  {
   "cell_type": "code",
   "execution_count": 18,
   "id": "ef877397",
   "metadata": {},
   "outputs": [
    {
     "name": "stdout",
     "output_type": "stream",
     "text": [
      "FF3 factors columns: ['Mkt-RF', 'SMB', 'HML', 'RF', 'week_start']\n"
     ]
    },
    {
     "data": {
      "text/html": [
       "<div><style>\n",
       ".dataframe > thead > tr,\n",
       ".dataframe > tbody > tr {\n",
       "  text-align: right;\n",
       "  white-space: pre-wrap;\n",
       "}\n",
       "</style>\n",
       "<small>shape: (5, 5)</small><table border=\"1\" class=\"dataframe\"><thead><tr><th>Mkt-RF</th><th>SMB</th><th>HML</th><th>RF</th><th>week_start</th></tr><tr><td>f64</td><td>f64</td><td>f64</td><td>f64</td><td>date</td></tr></thead><tbody><tr><td>0.0158</td><td>-0.0062</td><td>-0.0086</td><td>0.0006</td><td>1926-06-28</td></tr><tr><td>0.0037</td><td>-0.009</td><td>0.0031</td><td>0.0006</td><td>1926-07-05</td></tr><tr><td>0.0098</td><td>0.0059</td><td>-0.0144</td><td>0.0006</td><td>1926-07-12</td></tr><tr><td>-0.0203</td><td>0.0002</td><td>-0.0017</td><td>0.0006</td><td>1926-07-19</td></tr><tr><td>0.0306</td><td>-0.0189</td><td>-0.0085</td><td>0.0006</td><td>1926-07-26</td></tr></tbody></table></div>"
      ],
      "text/plain": [
       "shape: (5, 5)\n",
       "┌─────────┬─────────┬─────────┬────────┬────────────┐\n",
       "│ Mkt-RF  ┆ SMB     ┆ HML     ┆ RF     ┆ week_start │\n",
       "│ ---     ┆ ---     ┆ ---     ┆ ---    ┆ ---        │\n",
       "│ f64     ┆ f64     ┆ f64     ┆ f64    ┆ date       │\n",
       "╞═════════╪═════════╪═════════╪════════╪════════════╡\n",
       "│ 0.0158  ┆ -0.0062 ┆ -0.0086 ┆ 0.0006 ┆ 1926-06-28 │\n",
       "│ 0.0037  ┆ -0.009  ┆ 0.0031  ┆ 0.0006 ┆ 1926-07-05 │\n",
       "│ 0.0098  ┆ 0.0059  ┆ -0.0144 ┆ 0.0006 ┆ 1926-07-12 │\n",
       "│ -0.0203 ┆ 0.0002  ┆ -0.0017 ┆ 0.0006 ┆ 1926-07-19 │\n",
       "│ 0.0306  ┆ -0.0189 ┆ -0.0085 ┆ 0.0006 ┆ 1926-07-26 │\n",
       "└─────────┴─────────┴─────────┴────────┴────────────┘"
      ]
     },
     "execution_count": 18,
     "metadata": {},
     "output_type": "execute_result"
    }
   ],
   "source": [
    "# Convert to Polars\n",
    "ff3_factors_pl = pl.from_pandas(ff3_factors)\n",
    "\n",
    "# Parse the Date column properly\n",
    "ff3_factors_pl = (\n",
    "    ff3_factors_pl\n",
    "    .with_columns([\n",
    "        # Convert Date from YYYYMMDD integer to proper date, then truncate to Monday\n",
    "        pl.col(\"Date\").cast(pl.Int64).cast(pl.Utf8).str.to_date(\"%Y%m%d\")\n",
    "          .dt.truncate(\"1w\").alias(\"week_start\")\n",
    "    ])\n",
    "    .drop(\"Date\")  # drop original Date column after creating week_start\n",
    ")\n",
    "\n",
    "print(\"FF3 factors columns:\", ff3_factors_pl.columns)\n",
    "ff3_factors_pl.head()"
   ]
  },
  {
   "cell_type": "code",
   "execution_count": 19,
   "id": "e65b8fd6",
   "metadata": {},
   "outputs": [
    {
     "name": "stdout",
     "output_type": "stream",
     "text": [
      "Columns in merged_df:\n",
      "['secid', 'week_start', 'week_end', 'IV_skew', 'PERMNO', 'week_start_right', 'weekly_return', 'week_end_right', 'TICKER', 'COMNAM', 'trading_days', 'sdate', 'edate']\n"
     ]
    },
    {
     "data": {
      "text/html": [
       "<div><style>\n",
       ".dataframe > thead > tr,\n",
       ".dataframe > tbody > tr {\n",
       "  text-align: right;\n",
       "  white-space: pre-wrap;\n",
       "}\n",
       "</style>\n",
       "<small>shape: (5, 13)</small><table border=\"1\" class=\"dataframe\"><thead><tr><th>secid</th><th>week_start</th><th>week_end</th><th>IV_skew</th><th>PERMNO</th><th>week_start_right</th><th>weekly_return</th><th>week_end_right</th><th>TICKER</th><th>COMNAM</th><th>trading_days</th><th>sdate</th><th>edate</th></tr><tr><td>i64</td><td>date</td><td>date</td><td>f32</td><td>i64</td><td>date</td><td>f64</td><td>date</td><td>str</td><td>str</td><td>u32</td><td>str</td><td>str</td></tr></thead><tbody><tr><td>5594</td><td>2021-11-08</td><td>2021-11-11</td><td>0.076602</td><td>52250</td><td>2021-11-15</td><td>-0.0016</td><td>2021-11-19</td><td>&quot;GENC&quot;</td><td>&quot;GENCOR INDUSTRIES INC&quot;</td><td>5</td><td>&quot;1996-01-01&quot;</td><td>&quot;2024-12-31&quot;</td></tr><tr><td>5594</td><td>2021-11-15</td><td>2021-11-19</td><td>0.028996</td><td>52250</td><td>2021-11-22</td><td>-0.060095</td><td>2021-11-26</td><td>&quot;GENC&quot;</td><td>&quot;GENCOR INDUSTRIES INC&quot;</td><td>4</td><td>&quot;1996-01-01&quot;</td><td>&quot;2024-12-31&quot;</td></tr><tr><td>5594</td><td>2021-11-22</td><td>2021-11-24</td><td>0.044062</td><td>52250</td><td>2021-11-29</td><td>-0.019608</td><td>2021-12-03</td><td>&quot;GENC&quot;</td><td>&quot;GENCOR INDUSTRIES INC&quot;</td><td>5</td><td>&quot;1996-01-01&quot;</td><td>&quot;2024-12-31&quot;</td></tr><tr><td>6646</td><td>2020-10-26</td><td>2020-10-26</td><td>-0.037153</td><td>75672</td><td>2020-11-02</td><td>-0.068293</td><td>2020-11-06</td><td>&quot;WWR&quot;</td><td>&quot;WESTWATER RESOURCES INC&quot;</td><td>5</td><td>&quot;1996-01-01&quot;</td><td>&quot;2024-12-31&quot;</td></tr><tr><td>6646</td><td>2020-11-16</td><td>2020-11-18</td><td>0.015387</td><td>75672</td><td>2020-11-23</td><td>-0.119448</td><td>2020-11-27</td><td>&quot;WWR&quot;</td><td>&quot;WESTWATER RESOURCES INC&quot;</td><td>4</td><td>&quot;1996-01-01&quot;</td><td>&quot;2024-12-31&quot;</td></tr></tbody></table></div>"
      ],
      "text/plain": [
       "shape: (5, 13)\n",
       "┌───────┬────────────┬────────────┬───────────┬───┬────────────┬───────────┬───────────┬───────────┐\n",
       "│ secid ┆ week_start ┆ week_end   ┆ IV_skew   ┆ … ┆ COMNAM     ┆ trading_d ┆ sdate     ┆ edate     │\n",
       "│ ---   ┆ ---        ┆ ---        ┆ ---       ┆   ┆ ---        ┆ ays       ┆ ---       ┆ ---       │\n",
       "│ i64   ┆ date       ┆ date       ┆ f32       ┆   ┆ str        ┆ ---       ┆ str       ┆ str       │\n",
       "│       ┆            ┆            ┆           ┆   ┆            ┆ u32       ┆           ┆           │\n",
       "╞═══════╪════════════╪════════════╪═══════════╪═══╪════════════╪═══════════╪═══════════╪═══════════╡\n",
       "│ 5594  ┆ 2021-11-08 ┆ 2021-11-11 ┆ 0.076602  ┆ … ┆ GENCOR     ┆ 5         ┆ 1996-01-0 ┆ 2024-12-3 │\n",
       "│       ┆            ┆            ┆           ┆   ┆ INDUSTRIES ┆           ┆ 1         ┆ 1         │\n",
       "│       ┆            ┆            ┆           ┆   ┆ INC        ┆           ┆           ┆           │\n",
       "│ 5594  ┆ 2021-11-15 ┆ 2021-11-19 ┆ 0.028996  ┆ … ┆ GENCOR     ┆ 4         ┆ 1996-01-0 ┆ 2024-12-3 │\n",
       "│       ┆            ┆            ┆           ┆   ┆ INDUSTRIES ┆           ┆ 1         ┆ 1         │\n",
       "│       ┆            ┆            ┆           ┆   ┆ INC        ┆           ┆           ┆           │\n",
       "│ 5594  ┆ 2021-11-22 ┆ 2021-11-24 ┆ 0.044062  ┆ … ┆ GENCOR     ┆ 5         ┆ 1996-01-0 ┆ 2024-12-3 │\n",
       "│       ┆            ┆            ┆           ┆   ┆ INDUSTRIES ┆           ┆ 1         ┆ 1         │\n",
       "│       ┆            ┆            ┆           ┆   ┆ INC        ┆           ┆           ┆           │\n",
       "│ 6646  ┆ 2020-10-26 ┆ 2020-10-26 ┆ -0.037153 ┆ … ┆ WESTWATER  ┆ 5         ┆ 1996-01-0 ┆ 2024-12-3 │\n",
       "│       ┆            ┆            ┆           ┆   ┆ RESOURCES  ┆           ┆ 1         ┆ 1         │\n",
       "│       ┆            ┆            ┆           ┆   ┆ INC        ┆           ┆           ┆           │\n",
       "│ 6646  ┆ 2020-11-16 ┆ 2020-11-18 ┆ 0.015387  ┆ … ┆ WESTWATER  ┆ 4         ┆ 1996-01-0 ┆ 2024-12-3 │\n",
       "│       ┆            ┆            ┆           ┆   ┆ RESOURCES  ┆           ┆ 1         ┆ 1         │\n",
       "│       ┆            ┆            ┆           ┆   ┆ INC        ┆           ┆           ┆           │\n",
       "└───────┴────────────┴────────────┴───────────┴───┴────────────┴───────────┴───────────┴───────────┘"
      ]
     },
     "execution_count": 19,
     "metadata": {},
     "output_type": "execute_result"
    }
   ],
   "source": [
    "# Check what columns we have in merged_df to find the returns week column\n",
    "print(\"Columns in merged_df:\")\n",
    "print(merged_df.columns)\n",
    "merged_df.head()\n"
   ]
  },
  {
   "cell_type": "code",
   "execution_count": 20,
   "id": "b6a38998",
   "metadata": {},
   "outputs": [
    {
     "name": "stdout",
     "output_type": "stream",
     "text": [
      "Successfully joined! Columns in merged_with_ff:\n",
      "['secid', 'week_start', 'week_end', 'IV_skew', 'PERMNO', 'week_start_right', 'weekly_return', 'week_end_right', 'TICKER', 'COMNAM', 'trading_days', 'sdate', 'edate', 'Mkt-RF', 'SMB', 'HML', 'RF']\n",
      "\n",
      "Shape: (514768, 17)\n"
     ]
    },
    {
     "data": {
      "text/html": [
       "<div><style>\n",
       ".dataframe > thead > tr,\n",
       ".dataframe > tbody > tr {\n",
       "  text-align: right;\n",
       "  white-space: pre-wrap;\n",
       "}\n",
       "</style>\n",
       "<small>shape: (5, 17)</small><table border=\"1\" class=\"dataframe\"><thead><tr><th>secid</th><th>week_start</th><th>week_end</th><th>IV_skew</th><th>PERMNO</th><th>week_start_right</th><th>weekly_return</th><th>week_end_right</th><th>TICKER</th><th>COMNAM</th><th>trading_days</th><th>sdate</th><th>edate</th><th>Mkt-RF</th><th>SMB</th><th>HML</th><th>RF</th></tr><tr><td>i64</td><td>date</td><td>date</td><td>f32</td><td>i64</td><td>date</td><td>f64</td><td>date</td><td>str</td><td>str</td><td>u32</td><td>str</td><td>str</td><td>f64</td><td>f64</td><td>f64</td><td>f64</td></tr></thead><tbody><tr><td>5594</td><td>2021-11-08</td><td>2021-11-11</td><td>0.076602</td><td>52250</td><td>2021-11-15</td><td>-0.0016</td><td>2021-11-19</td><td>&quot;GENC&quot;</td><td>&quot;GENCOR INDUSTRIES INC&quot;</td><td>5</td><td>&quot;1996-01-01&quot;</td><td>&quot;2024-12-31&quot;</td><td>-0.0015</td><td>-0.0181</td><td>-0.016</td><td>0.0</td></tr><tr><td>5594</td><td>2021-11-15</td><td>2021-11-19</td><td>0.028996</td><td>52250</td><td>2021-11-22</td><td>-0.060095</td><td>2021-11-26</td><td>&quot;GENC&quot;</td><td>&quot;GENCOR INDUSTRIES INC&quot;</td><td>4</td><td>&quot;1996-01-01&quot;</td><td>&quot;2024-12-31&quot;</td><td>-0.0251</td><td>-0.0224</td><td>0.0266</td><td>0.0</td></tr><tr><td>5594</td><td>2021-11-22</td><td>2021-11-24</td><td>0.044062</td><td>52250</td><td>2021-11-29</td><td>-0.019608</td><td>2021-12-03</td><td>&quot;GENC&quot;</td><td>&quot;GENCOR INDUSTRIES INC&quot;</td><td>5</td><td>&quot;1996-01-01&quot;</td><td>&quot;2024-12-31&quot;</td><td>-0.0213</td><td>-0.0162</td><td>0.013</td><td>0.0</td></tr><tr><td>6646</td><td>2020-10-26</td><td>2020-10-26</td><td>-0.037153</td><td>75672</td><td>2020-11-02</td><td>-0.068293</td><td>2020-11-06</td><td>&quot;WWR&quot;</td><td>&quot;WESTWATER RESOURCES INC&quot;</td><td>5</td><td>&quot;1996-01-01&quot;</td><td>&quot;2024-12-31&quot;</td><td>0.0769</td><td>0.0008</td><td>-0.0494</td><td>0.0</td></tr><tr><td>6646</td><td>2020-11-16</td><td>2020-11-18</td><td>0.015387</td><td>75672</td><td>2020-11-23</td><td>-0.119448</td><td>2020-11-27</td><td>&quot;WWR&quot;</td><td>&quot;WESTWATER RESOURCES INC&quot;</td><td>4</td><td>&quot;1996-01-01&quot;</td><td>&quot;2024-12-31&quot;</td><td>0.0285</td><td>0.0128</td><td>0.0131</td><td>0.0</td></tr></tbody></table></div>"
      ],
      "text/plain": [
       "shape: (5, 17)\n",
       "┌───────┬────────────┬────────────┬───────────┬───┬─────────┬─────────┬─────────┬─────┐\n",
       "│ secid ┆ week_start ┆ week_end   ┆ IV_skew   ┆ … ┆ Mkt-RF  ┆ SMB     ┆ HML     ┆ RF  │\n",
       "│ ---   ┆ ---        ┆ ---        ┆ ---       ┆   ┆ ---     ┆ ---     ┆ ---     ┆ --- │\n",
       "│ i64   ┆ date       ┆ date       ┆ f32       ┆   ┆ f64     ┆ f64     ┆ f64     ┆ f64 │\n",
       "╞═══════╪════════════╪════════════╪═══════════╪═══╪═════════╪═════════╪═════════╪═════╡\n",
       "│ 5594  ┆ 2021-11-08 ┆ 2021-11-11 ┆ 0.076602  ┆ … ┆ -0.0015 ┆ -0.0181 ┆ -0.016  ┆ 0.0 │\n",
       "│ 5594  ┆ 2021-11-15 ┆ 2021-11-19 ┆ 0.028996  ┆ … ┆ -0.0251 ┆ -0.0224 ┆ 0.0266  ┆ 0.0 │\n",
       "│ 5594  ┆ 2021-11-22 ┆ 2021-11-24 ┆ 0.044062  ┆ … ┆ -0.0213 ┆ -0.0162 ┆ 0.013   ┆ 0.0 │\n",
       "│ 6646  ┆ 2020-10-26 ┆ 2020-10-26 ┆ -0.037153 ┆ … ┆ 0.0769  ┆ 0.0008  ┆ -0.0494 ┆ 0.0 │\n",
       "│ 6646  ┆ 2020-11-16 ┆ 2020-11-18 ┆ 0.015387  ┆ … ┆ 0.0285  ┆ 0.0128  ┆ 0.0131  ┆ 0.0 │\n",
       "└───────┴────────────┴────────────┴───────────┴───┴─────────┴─────────┴─────────┴─────┘"
      ]
     },
     "execution_count": 20,
     "metadata": {},
     "output_type": "execute_result"
    }
   ],
   "source": [
    "# Now join the FF3 factors (using the corrected ff3_factors_pl)\n",
    "merged_with_ff = (\n",
    "    merged_df\n",
    "    .join(\n",
    "        ff3_factors_pl,\n",
    "        left_on=\"week_start_right\",  # This is the returns week from weekly_ret_df  \n",
    "        right_on=\"week_start\",\n",
    "        how=\"left\",\n",
    "        suffix=\"_ff\"  # Add suffix to avoid column conflicts\n",
    "    )\n",
    ")\n",
    "\n",
    "print(\"Successfully joined! Columns in merged_with_ff:\")\n",
    "print(merged_with_ff.columns)\n",
    "print(f\"\\nShape: {merged_with_ff.shape}\")\n",
    "merged_with_ff.head()\n"
   ]
  },
  {
   "cell_type": "code",
   "execution_count": 21,
   "id": "706f1110",
   "metadata": {},
   "outputs": [
    {
     "data": {
      "text/html": [
       "<div><style>\n",
       ".dataframe > thead > tr,\n",
       ".dataframe > tbody > tr {\n",
       "  text-align: right;\n",
       "  white-space: pre-wrap;\n",
       "}\n",
       "</style>\n",
       "<small>shape: (20, 9)</small><table border=\"1\" class=\"dataframe\"><thead><tr><th>secid</th><th>week_start</th><th>week_start_right</th><th>IV_skew</th><th>weekly_return</th><th>Mkt-RF</th><th>SMB</th><th>HML</th><th>RF</th></tr><tr><td>i64</td><td>date</td><td>date</td><td>f32</td><td>f64</td><td>f64</td><td>f64</td><td>f64</td><td>f64</td></tr></thead><tbody><tr><td>5594</td><td>2021-11-08</td><td>2021-11-15</td><td>0.076602</td><td>-0.0016</td><td>-0.0015</td><td>-0.0181</td><td>-0.016</td><td>0.0</td></tr><tr><td>5594</td><td>2021-11-15</td><td>2021-11-22</td><td>0.028996</td><td>-0.060095</td><td>-0.0251</td><td>-0.0224</td><td>0.0266</td><td>0.0</td></tr><tr><td>5594</td><td>2021-11-22</td><td>2021-11-29</td><td>0.044062</td><td>-0.019608</td><td>-0.0213</td><td>-0.0162</td><td>0.013</td><td>0.0</td></tr><tr><td>6646</td><td>2020-10-26</td><td>2020-11-02</td><td>-0.037153</td><td>-0.068293</td><td>0.0769</td><td>0.0008</td><td>-0.0494</td><td>0.0</td></tr><tr><td>6646</td><td>2020-11-16</td><td>2020-11-23</td><td>0.015387</td><td>-0.119448</td><td>0.0285</td><td>0.0128</td><td>0.0131</td><td>0.0</td></tr><tr><td>&hellip;</td><td>&hellip;</td><td>&hellip;</td><td>&hellip;</td><td>&hellip;</td><td>&hellip;</td><td>&hellip;</td><td>&hellip;</td><td>&hellip;</td></tr><tr><td>6646</td><td>2021-03-01</td><td>2021-03-08</td><td>-0.001298</td><td>0.309623</td><td>0.0332</td><td>0.0462</td><td>0.0163</td><td>0.0</td></tr><tr><td>6646</td><td>2021-03-08</td><td>2021-03-15</td><td>0.003886</td><td>-0.086261</td><td>-0.0103</td><td>-0.0136</td><td>-0.0038</td><td>0.0</td></tr><tr><td>6646</td><td>2021-03-22</td><td>2021-03-29</td><td>-0.01896</td><td>0.055663</td><td>0.0138</td><td>0.0048</td><td>-0.0162</td><td>0.0</td></tr><tr><td>6646</td><td>2021-03-29</td><td>2021-04-05</td><td>0.050432</td><td>-0.049092</td><td>0.0246</td><td>-0.0257</td><td>-0.0131</td><td>0.0</td></tr><tr><td>6646</td><td>2021-04-05</td><td>2021-04-12</td><td>0.066751</td><td>-0.173997</td><td>0.0136</td><td>-0.0099</td><td>-0.0003</td><td>0.0</td></tr></tbody></table></div>"
      ],
      "text/plain": [
       "shape: (20, 9)\n",
       "┌───────┬────────────┬──────────────────┬───────────┬───┬─────────┬─────────┬─────────┬─────┐\n",
       "│ secid ┆ week_start ┆ week_start_right ┆ IV_skew   ┆ … ┆ Mkt-RF  ┆ SMB     ┆ HML     ┆ RF  │\n",
       "│ ---   ┆ ---        ┆ ---              ┆ ---       ┆   ┆ ---     ┆ ---     ┆ ---     ┆ --- │\n",
       "│ i64   ┆ date       ┆ date             ┆ f32       ┆   ┆ f64     ┆ f64     ┆ f64     ┆ f64 │\n",
       "╞═══════╪════════════╪══════════════════╪═══════════╪═══╪═════════╪═════════╪═════════╪═════╡\n",
       "│ 5594  ┆ 2021-11-08 ┆ 2021-11-15       ┆ 0.076602  ┆ … ┆ -0.0015 ┆ -0.0181 ┆ -0.016  ┆ 0.0 │\n",
       "│ 5594  ┆ 2021-11-15 ┆ 2021-11-22       ┆ 0.028996  ┆ … ┆ -0.0251 ┆ -0.0224 ┆ 0.0266  ┆ 0.0 │\n",
       "│ 5594  ┆ 2021-11-22 ┆ 2021-11-29       ┆ 0.044062  ┆ … ┆ -0.0213 ┆ -0.0162 ┆ 0.013   ┆ 0.0 │\n",
       "│ 6646  ┆ 2020-10-26 ┆ 2020-11-02       ┆ -0.037153 ┆ … ┆ 0.0769  ┆ 0.0008  ┆ -0.0494 ┆ 0.0 │\n",
       "│ 6646  ┆ 2020-11-16 ┆ 2020-11-23       ┆ 0.015387  ┆ … ┆ 0.0285  ┆ 0.0128  ┆ 0.0131  ┆ 0.0 │\n",
       "│ …     ┆ …          ┆ …                ┆ …         ┆ … ┆ …       ┆ …       ┆ …       ┆ …   │\n",
       "│ 6646  ┆ 2021-03-01 ┆ 2021-03-08       ┆ -0.001298 ┆ … ┆ 0.0332  ┆ 0.0462  ┆ 0.0163  ┆ 0.0 │\n",
       "│ 6646  ┆ 2021-03-08 ┆ 2021-03-15       ┆ 0.003886  ┆ … ┆ -0.0103 ┆ -0.0136 ┆ -0.0038 ┆ 0.0 │\n",
       "│ 6646  ┆ 2021-03-22 ┆ 2021-03-29       ┆ -0.01896  ┆ … ┆ 0.0138  ┆ 0.0048  ┆ -0.0162 ┆ 0.0 │\n",
       "│ 6646  ┆ 2021-03-29 ┆ 2021-04-05       ┆ 0.050432  ┆ … ┆ 0.0246  ┆ -0.0257 ┆ -0.0131 ┆ 0.0 │\n",
       "│ 6646  ┆ 2021-04-05 ┆ 2021-04-12       ┆ 0.066751  ┆ … ┆ 0.0136  ┆ -0.0099 ┆ -0.0003 ┆ 0.0 │\n",
       "└───────┴────────────┴──────────────────┴───────────┴───┴─────────┴─────────┴─────────┴─────┘"
      ]
     },
     "execution_count": 21,
     "metadata": {},
     "output_type": "execute_result"
    }
   ],
   "source": [
    "# Verify the data looks correct - show key columns\n",
    "merged_with_ff.select([\n",
    "    'secid', 'week_start', 'week_start_right', 'IV_skew', 'weekly_return',  \n",
    "    'Mkt-RF', 'SMB', 'HML', 'RF'\n",
    "]).head(20)\n"
   ]
  },
  {
   "cell_type": "markdown",
   "id": "369611d1",
   "metadata": {},
   "source": [
    "## 6. Portfolio Sorting Analysis: Testing for Significant Alpha\n",
    "\n",
    "We now perform a quintile portfolio sorting analysis to test whether IV_skew has predictive power for future returns. Each week, we:\n",
    "1. Sort stocks into 5 quintiles based on IV_skew\n",
    "2. Calculate equal-weighted returns for each quintile\n",
    "3. Form a long-short portfolio (Q5 - Q1)\n",
    "4. Regress portfolio returns on FF3 factors to test for significant alpha\n"
   ]
  },
  {
   "cell_type": "code",
   "execution_count": 22,
   "id": "4a1f0e9c",
   "metadata": {},
   "outputs": [
    {
     "name": "stdout",
     "output_type": "stream",
     "text": [
      "Portfolio data shape: (514600, 17)\n",
      "Date range: 2018-12-31 to 2023-08-28\n",
      "Number of unique stocks: 3956\n",
      "Number of unique weeks: 244\n"
     ]
    }
   ],
   "source": [
    "# Prepare data for portfolio sorting\n",
    "# Remove rows with missing IV_skew, returns, or FF3 factors\n",
    "portfolio_data = (\n",
    "    merged_with_ff\n",
    "    .filter(\n",
    "        pl.col(\"IV_skew\").is_not_null() &\n",
    "        pl.col(\"weekly_return\").is_not_null() &\n",
    "        pl.col(\"Mkt-RF\").is_not_null() &\n",
    "        pl.col(\"SMB\").is_not_null() &\n",
    "        pl.col(\"HML\").is_not_null() &\n",
    "        pl.col(\"RF\").is_not_null()\n",
    "    )\n",
    ")\n",
    "\n",
    "print(f\"Portfolio data shape: {portfolio_data.shape}\")\n",
    "print(f\"Date range: {portfolio_data['week_start'].min()} to {portfolio_data['week_start'].max()}\")\n",
    "print(f\"Number of unique stocks: {portfolio_data['secid'].n_unique()}\")\n",
    "print(f\"Number of unique weeks: {portfolio_data['week_start'].n_unique()}\")\n"
   ]
  },
  {
   "cell_type": "code",
   "execution_count": 23,
   "id": "836d5882",
   "metadata": {},
   "outputs": [
    {
     "name": "stdout",
     "output_type": "stream",
     "text": [
      "Stocks per quintile (sample):\n",
      "shape: (5, 2)\n",
      "┌──────────────────┬────────┐\n",
      "│ IV_skew_quintile ┆ count  │\n",
      "│ ---              ┆ ---    │\n",
      "│ cat              ┆ u32    │\n",
      "╞══════════════════╪════════╡\n",
      "│ Q1               ┆ 103021 │\n",
      "│ Q2               ┆ 102873 │\n",
      "│ Q3               ┆ 102861 │\n",
      "│ Q4               ┆ 102873 │\n",
      "│ Q5               ┆ 102972 │\n",
      "└──────────────────┴────────┘\n"
     ]
    },
    {
     "data": {
      "text/html": [
       "<div><style>\n",
       ".dataframe > thead > tr,\n",
       ".dataframe > tbody > tr {\n",
       "  text-align: right;\n",
       "  white-space: pre-wrap;\n",
       "}\n",
       "</style>\n",
       "<small>shape: (10, 19)</small><table border=\"1\" class=\"dataframe\"><thead><tr><th>secid</th><th>week_start</th><th>week_end</th><th>IV_skew</th><th>PERMNO</th><th>week_start_right</th><th>weekly_return</th><th>week_end_right</th><th>TICKER</th><th>COMNAM</th><th>trading_days</th><th>sdate</th><th>edate</th><th>Mkt-RF</th><th>SMB</th><th>HML</th><th>RF</th><th>IV_skew_quintile</th><th>excess_return</th></tr><tr><td>i64</td><td>date</td><td>date</td><td>f32</td><td>i64</td><td>date</td><td>f64</td><td>date</td><td>str</td><td>str</td><td>u32</td><td>str</td><td>str</td><td>f64</td><td>f64</td><td>f64</td><td>f64</td><td>cat</td><td>f64</td></tr></thead><tbody><tr><td>5594</td><td>2021-11-08</td><td>2021-11-11</td><td>0.076602</td><td>52250</td><td>2021-11-15</td><td>-0.0016</td><td>2021-11-19</td><td>&quot;GENC&quot;</td><td>&quot;GENCOR INDUSTRIES INC&quot;</td><td>5</td><td>&quot;1996-01-01&quot;</td><td>&quot;2024-12-31&quot;</td><td>-0.0015</td><td>-0.0181</td><td>-0.016</td><td>0.0</td><td>&quot;Q5&quot;</td><td>-0.0016</td></tr><tr><td>5594</td><td>2021-11-15</td><td>2021-11-19</td><td>0.028996</td><td>52250</td><td>2021-11-22</td><td>-0.060095</td><td>2021-11-26</td><td>&quot;GENC&quot;</td><td>&quot;GENCOR INDUSTRIES INC&quot;</td><td>4</td><td>&quot;1996-01-01&quot;</td><td>&quot;2024-12-31&quot;</td><td>-0.0251</td><td>-0.0224</td><td>0.0266</td><td>0.0</td><td>&quot;Q4&quot;</td><td>-0.060095</td></tr><tr><td>5594</td><td>2021-11-22</td><td>2021-11-24</td><td>0.044062</td><td>52250</td><td>2021-11-29</td><td>-0.019608</td><td>2021-12-03</td><td>&quot;GENC&quot;</td><td>&quot;GENCOR INDUSTRIES INC&quot;</td><td>5</td><td>&quot;1996-01-01&quot;</td><td>&quot;2024-12-31&quot;</td><td>-0.0213</td><td>-0.0162</td><td>0.013</td><td>0.0</td><td>&quot;Q5&quot;</td><td>-0.019608</td></tr><tr><td>6646</td><td>2020-10-26</td><td>2020-10-26</td><td>-0.037153</td><td>75672</td><td>2020-11-02</td><td>-0.068293</td><td>2020-11-06</td><td>&quot;WWR&quot;</td><td>&quot;WESTWATER RESOURCES INC&quot;</td><td>5</td><td>&quot;1996-01-01&quot;</td><td>&quot;2024-12-31&quot;</td><td>0.0769</td><td>0.0008</td><td>-0.0494</td><td>0.0</td><td>&quot;Q1&quot;</td><td>-0.068293</td></tr><tr><td>6646</td><td>2020-11-16</td><td>2020-11-18</td><td>0.015387</td><td>75672</td><td>2020-11-23</td><td>-0.119448</td><td>2020-11-27</td><td>&quot;WWR&quot;</td><td>&quot;WESTWATER RESOURCES INC&quot;</td><td>4</td><td>&quot;1996-01-01&quot;</td><td>&quot;2024-12-31&quot;</td><td>0.0285</td><td>0.0128</td><td>0.0131</td><td>0.0</td><td>&quot;Q4&quot;</td><td>-0.119448</td></tr><tr><td>6646</td><td>2020-12-07</td><td>2020-12-11</td><td>0.065453</td><td>75672</td><td>2020-12-14</td><td>-0.026157</td><td>2020-12-18</td><td>&quot;WWR&quot;</td><td>&quot;WESTWATER RESOURCES INC&quot;</td><td>5</td><td>&quot;1996-01-01&quot;</td><td>&quot;2024-12-31&quot;</td><td>0.0184</td><td>0.0199</td><td>-0.0351</td><td>0.0</td><td>&quot;Q5&quot;</td><td>-0.026157</td></tr><tr><td>6646</td><td>2020-12-14</td><td>2020-12-18</td><td>0.150233</td><td>75672</td><td>2020-12-21</td><td>0.109504</td><td>2020-12-24</td><td>&quot;WWR&quot;</td><td>&quot;WESTWATER RESOURCES INC&quot;</td><td>4</td><td>&quot;1996-01-01&quot;</td><td>&quot;2024-12-31&quot;</td><td>0.0015</td><td>0.0137</td><td>0.0009</td><td>0.0</td><td>&quot;Q5&quot;</td><td>0.109504</td></tr><tr><td>6646</td><td>2020-12-21</td><td>2020-12-21</td><td>0.027616</td><td>75672</td><td>2020-12-28</td><td>-0.081937</td><td>2020-12-31</td><td>&quot;WWR&quot;</td><td>&quot;WESTWATER RESOURCES INC&quot;</td><td>4</td><td>&quot;1996-01-01&quot;</td><td>&quot;2024-12-31&quot;</td><td>0.0077</td><td>-0.0215</td><td>0.0114</td><td>0.0</td><td>&quot;Q4&quot;</td><td>-0.081937</td></tr><tr><td>6646</td><td>2020-12-28</td><td>2020-12-31</td><td>0.008089</td><td>75672</td><td>2021-01-04</td><td>0.040569</td><td>2021-01-08</td><td>&quot;WWR&quot;</td><td>&quot;WESTWATER RESOURCES INC&quot;</td><td>5</td><td>&quot;1996-01-01&quot;</td><td>&quot;2024-12-31&quot;</td><td>0.0251</td><td>0.035</td><td>0.0227</td><td>0.0</td><td>&quot;Q4&quot;</td><td>0.040569</td></tr><tr><td>6646</td><td>2021-01-04</td><td>2021-01-08</td><td>0.172665</td><td>75672</td><td>2021-01-11</td><td>-0.025341</td><td>2021-01-15</td><td>&quot;WWR&quot;</td><td>&quot;WESTWATER RESOURCES INC&quot;</td><td>5</td><td>&quot;1996-01-01&quot;</td><td>&quot;2024-12-31&quot;</td><td>-0.0106</td><td>0.0231</td><td>0.0222</td><td>0.0</td><td>&quot;Q5&quot;</td><td>-0.025341</td></tr></tbody></table></div>"
      ],
      "text/plain": [
       "shape: (10, 19)\n",
       "┌───────┬────────────┬────────────┬───────────┬───┬─────────┬─────┬────────────────┬───────────────┐\n",
       "│ secid ┆ week_start ┆ week_end   ┆ IV_skew   ┆ … ┆ HML     ┆ RF  ┆ IV_skew_quinti ┆ excess_return │\n",
       "│ ---   ┆ ---        ┆ ---        ┆ ---       ┆   ┆ ---     ┆ --- ┆ le             ┆ ---           │\n",
       "│ i64   ┆ date       ┆ date       ┆ f32       ┆   ┆ f64     ┆ f64 ┆ ---            ┆ f64           │\n",
       "│       ┆            ┆            ┆           ┆   ┆         ┆     ┆ cat            ┆               │\n",
       "╞═══════╪════════════╪════════════╪═══════════╪═══╪═════════╪═════╪════════════════╪═══════════════╡\n",
       "│ 5594  ┆ 2021-11-08 ┆ 2021-11-11 ┆ 0.076602  ┆ … ┆ -0.016  ┆ 0.0 ┆ Q5             ┆ -0.0016       │\n",
       "│ 5594  ┆ 2021-11-15 ┆ 2021-11-19 ┆ 0.028996  ┆ … ┆ 0.0266  ┆ 0.0 ┆ Q4             ┆ -0.060095     │\n",
       "│ 5594  ┆ 2021-11-22 ┆ 2021-11-24 ┆ 0.044062  ┆ … ┆ 0.013   ┆ 0.0 ┆ Q5             ┆ -0.019608     │\n",
       "│ 6646  ┆ 2020-10-26 ┆ 2020-10-26 ┆ -0.037153 ┆ … ┆ -0.0494 ┆ 0.0 ┆ Q1             ┆ -0.068293     │\n",
       "│ 6646  ┆ 2020-11-16 ┆ 2020-11-18 ┆ 0.015387  ┆ … ┆ 0.0131  ┆ 0.0 ┆ Q4             ┆ -0.119448     │\n",
       "│ 6646  ┆ 2020-12-07 ┆ 2020-12-11 ┆ 0.065453  ┆ … ┆ -0.0351 ┆ 0.0 ┆ Q5             ┆ -0.026157     │\n",
       "│ 6646  ┆ 2020-12-14 ┆ 2020-12-18 ┆ 0.150233  ┆ … ┆ 0.0009  ┆ 0.0 ┆ Q5             ┆ 0.109504      │\n",
       "│ 6646  ┆ 2020-12-21 ┆ 2020-12-21 ┆ 0.027616  ┆ … ┆ 0.0114  ┆ 0.0 ┆ Q4             ┆ -0.081937     │\n",
       "│ 6646  ┆ 2020-12-28 ┆ 2020-12-31 ┆ 0.008089  ┆ … ┆ 0.0227  ┆ 0.0 ┆ Q4             ┆ 0.040569      │\n",
       "│ 6646  ┆ 2021-01-04 ┆ 2021-01-08 ┆ 0.172665  ┆ … ┆ 0.0222  ┆ 0.0 ┆ Q5             ┆ -0.025341     │\n",
       "└───────┴────────────┴────────────┴───────────┴───┴─────────┴─────┴────────────────┴───────────────┘"
      ]
     },
     "execution_count": 23,
     "metadata": {},
     "output_type": "execute_result"
    }
   ],
   "source": [
    "# Sort stocks into quintiles based on IV_skew each week\n",
    "# Quintile 1 = lowest IV_skew, Quintile 5 = highest IV_skew\n",
    "portfolio_data = (\n",
    "    portfolio_data\n",
    "    .with_columns([\n",
    "        # Create quintile ranks within each week\n",
    "        pl.col(\"IV_skew\").qcut(5, labels=[\"Q1\", \"Q2\", \"Q3\", \"Q4\", \"Q5\"])\n",
    "        .over(\"week_start\")\n",
    "        .alias(\"IV_skew_quintile\"),\n",
    "        # Also create excess returns\n",
    "        (pl.col(\"weekly_return\") - pl.col(\"RF\")).alias(\"excess_return\")\n",
    "    ])\n",
    ")\n",
    "\n",
    "# Check the distribution of stocks across quintiles\n",
    "print(\"Stocks per quintile (sample):\")\n",
    "print(portfolio_data.group_by(\"IV_skew_quintile\").agg(pl.len().alias(\"count\")).sort(\"IV_skew_quintile\"))\n",
    "portfolio_data.head(10)\n"
   ]
  },
  {
   "cell_type": "code",
   "execution_count": 24,
   "id": "ab77dbb1",
   "metadata": {},
   "outputs": [
    {
     "name": "stdout",
     "output_type": "stream",
     "text": [
      "Quintile returns shape: (1220, 9)\n",
      "\n",
      "Sample of quintile returns:\n"
     ]
    },
    {
     "data": {
      "text/html": [
       "<div><style>\n",
       ".dataframe > thead > tr,\n",
       ".dataframe > tbody > tr {\n",
       "  text-align: right;\n",
       "  white-space: pre-wrap;\n",
       "}\n",
       "</style>\n",
       "<small>shape: (15, 9)</small><table border=\"1\" class=\"dataframe\"><thead><tr><th>week_start</th><th>IV_skew_quintile</th><th>portfolio_excess_return</th><th>portfolio_return</th><th>n_stocks</th><th>Mkt-RF</th><th>SMB</th><th>HML</th><th>RF</th></tr><tr><td>date</td><td>cat</td><td>f64</td><td>f64</td><td>u32</td><td>f64</td><td>f64</td><td>f64</td><td>f64</td></tr></thead><tbody><tr><td>2018-12-31</td><td>&quot;Q1&quot;</td><td>0.03635</td><td>0.03685</td><td>359</td><td>0.0289</td><td>0.0219</td><td>-0.0155</td><td>0.0005</td></tr><tr><td>2018-12-31</td><td>&quot;Q2&quot;</td><td>0.046353</td><td>0.046853</td><td>359</td><td>0.0289</td><td>0.0219</td><td>-0.0155</td><td>0.0005</td></tr><tr><td>2018-12-31</td><td>&quot;Q3&quot;</td><td>0.045557</td><td>0.046057</td><td>358</td><td>0.0289</td><td>0.0219</td><td>-0.0155</td><td>0.0005</td></tr><tr><td>2018-12-31</td><td>&quot;Q4&quot;</td><td>0.057459</td><td>0.057959</td><td>359</td><td>0.0289</td><td>0.0219</td><td>-0.0155</td><td>0.0005</td></tr><tr><td>2018-12-31</td><td>&quot;Q5&quot;</td><td>0.061904</td><td>0.062404</td><td>359</td><td>0.0289</td><td>0.0219</td><td>-0.0155</td><td>0.0005</td></tr><tr><td>&hellip;</td><td>&hellip;</td><td>&hellip;</td><td>&hellip;</td><td>&hellip;</td><td>&hellip;</td><td>&hellip;</td><td>&hellip;</td><td>&hellip;</td></tr><tr><td>2019-01-14</td><td>&quot;Q1&quot;</td><td>0.000781</td><td>0.001281</td><td>369</td><td>-0.0027</td><td>0.001</td><td>-0.0017</td><td>0.0005</td></tr><tr><td>2019-01-14</td><td>&quot;Q2&quot;</td><td>0.000827</td><td>0.001327</td><td>368</td><td>-0.0027</td><td>0.001</td><td>-0.0017</td><td>0.0005</td></tr><tr><td>2019-01-14</td><td>&quot;Q3&quot;</td><td>-0.000988</td><td>-0.000488</td><td>369</td><td>-0.0027</td><td>0.001</td><td>-0.0017</td><td>0.0005</td></tr><tr><td>2019-01-14</td><td>&quot;Q4&quot;</td><td>-0.001667</td><td>-0.001167</td><td>368</td><td>-0.0027</td><td>0.001</td><td>-0.0017</td><td>0.0005</td></tr><tr><td>2019-01-14</td><td>&quot;Q5&quot;</td><td>-0.001897</td><td>-0.001397</td><td>369</td><td>-0.0027</td><td>0.001</td><td>-0.0017</td><td>0.0005</td></tr></tbody></table></div>"
      ],
      "text/plain": [
       "shape: (15, 9)\n",
       "┌────────────┬──────────────┬──────────────┬─────────────┬───┬─────────┬────────┬─────────┬────────┐\n",
       "│ week_start ┆ IV_skew_quin ┆ portfolio_ex ┆ portfolio_r ┆ … ┆ Mkt-RF  ┆ SMB    ┆ HML     ┆ RF     │\n",
       "│ ---        ┆ tile         ┆ cess_return  ┆ eturn       ┆   ┆ ---     ┆ ---    ┆ ---     ┆ ---    │\n",
       "│ date       ┆ ---          ┆ ---          ┆ ---         ┆   ┆ f64     ┆ f64    ┆ f64     ┆ f64    │\n",
       "│            ┆ cat          ┆ f64          ┆ f64         ┆   ┆         ┆        ┆         ┆        │\n",
       "╞════════════╪══════════════╪══════════════╪═════════════╪═══╪═════════╪════════╪═════════╪════════╡\n",
       "│ 2018-12-31 ┆ Q1           ┆ 0.03635      ┆ 0.03685     ┆ … ┆ 0.0289  ┆ 0.0219 ┆ -0.0155 ┆ 0.0005 │\n",
       "│ 2018-12-31 ┆ Q2           ┆ 0.046353     ┆ 0.046853    ┆ … ┆ 0.0289  ┆ 0.0219 ┆ -0.0155 ┆ 0.0005 │\n",
       "│ 2018-12-31 ┆ Q3           ┆ 0.045557     ┆ 0.046057    ┆ … ┆ 0.0289  ┆ 0.0219 ┆ -0.0155 ┆ 0.0005 │\n",
       "│ 2018-12-31 ┆ Q4           ┆ 0.057459     ┆ 0.057959    ┆ … ┆ 0.0289  ┆ 0.0219 ┆ -0.0155 ┆ 0.0005 │\n",
       "│ 2018-12-31 ┆ Q5           ┆ 0.061904     ┆ 0.062404    ┆ … ┆ 0.0289  ┆ 0.0219 ┆ -0.0155 ┆ 0.0005 │\n",
       "│ …          ┆ …            ┆ …            ┆ …           ┆ … ┆ …       ┆ …      ┆ …       ┆ …      │\n",
       "│ 2019-01-14 ┆ Q1           ┆ 0.000781     ┆ 0.001281    ┆ … ┆ -0.0027 ┆ 0.001  ┆ -0.0017 ┆ 0.0005 │\n",
       "│ 2019-01-14 ┆ Q2           ┆ 0.000827     ┆ 0.001327    ┆ … ┆ -0.0027 ┆ 0.001  ┆ -0.0017 ┆ 0.0005 │\n",
       "│ 2019-01-14 ┆ Q3           ┆ -0.000988    ┆ -0.000488   ┆ … ┆ -0.0027 ┆ 0.001  ┆ -0.0017 ┆ 0.0005 │\n",
       "│ 2019-01-14 ┆ Q4           ┆ -0.001667    ┆ -0.001167   ┆ … ┆ -0.0027 ┆ 0.001  ┆ -0.0017 ┆ 0.0005 │\n",
       "│ 2019-01-14 ┆ Q5           ┆ -0.001897    ┆ -0.001397   ┆ … ┆ -0.0027 ┆ 0.001  ┆ -0.0017 ┆ 0.0005 │\n",
       "└────────────┴──────────────┴──────────────┴─────────────┴───┴─────────┴────────┴─────────┴────────┘"
      ]
     },
     "execution_count": 24,
     "metadata": {},
     "output_type": "execute_result"
    }
   ],
   "source": [
    "# Calculate equal-weighted portfolio returns for each quintile in each week\n",
    "quintile_returns = (\n",
    "    portfolio_data\n",
    "    .group_by([\"week_start\", \"IV_skew_quintile\"])\n",
    "    .agg([\n",
    "        pl.mean(\"excess_return\").alias(\"portfolio_excess_return\"),\n",
    "        pl.mean(\"weekly_return\").alias(\"portfolio_return\"),\n",
    "        pl.len().alias(\"n_stocks\"),\n",
    "        # Also get the FF3 factors (should be same for all stocks in a week)\n",
    "        pl.first(\"Mkt-RF\").alias(\"Mkt-RF\"),\n",
    "        pl.first(\"SMB\").alias(\"SMB\"),\n",
    "        pl.first(\"HML\").alias(\"HML\"),\n",
    "        pl.first(\"RF\").alias(\"RF\")\n",
    "    ])\n",
    "    .sort([\"week_start\", \"IV_skew_quintile\"])\n",
    ")\n",
    "\n",
    "print(f\"Quintile returns shape: {quintile_returns.shape}\")\n",
    "print(f\"\\nSample of quintile returns:\")\n",
    "quintile_returns.head(15)\n"
   ]
  },
  {
   "cell_type": "code",
   "execution_count": 25,
   "id": "7b651bff",
   "metadata": {},
   "outputs": [
    {
     "name": "stdout",
     "output_type": "stream",
     "text": [
      "Long-Short Portfolio Summary Statistics:\n",
      "Mean weekly return: 0.0009\n",
      "Std dev: 0.0162\n",
      "Sharpe ratio (annualized): 0.4040\n",
      "Number of weeks: 244\n"
     ]
    },
    {
     "data": {
      "text/html": [
       "<div><style>\n",
       ".dataframe > thead > tr,\n",
       ".dataframe > tbody > tr {\n",
       "  text-align: right;\n",
       "  white-space: pre-wrap;\n",
       "}\n",
       "</style>\n",
       "<small>shape: (10, 7)</small><table border=\"1\" class=\"dataframe\"><thead><tr><th>week_start</th><th>Q5_return</th><th>Q1_return</th><th>long_short_return</th><th>Mkt-RF</th><th>SMB</th><th>HML</th></tr><tr><td>date</td><td>f64</td><td>f64</td><td>f64</td><td>f64</td><td>f64</td><td>f64</td></tr></thead><tbody><tr><td>2018-12-31</td><td>0.061904</td><td>0.03635</td><td>0.025555</td><td>0.0289</td><td>0.0219</td><td>-0.0155</td></tr><tr><td>2019-01-07</td><td>0.019328</td><td>0.027373</td><td>-0.008046</td><td>0.0284</td><td>-0.0085</td><td>0.0089</td></tr><tr><td>2019-01-14</td><td>-0.001897</td><td>0.000781</td><td>-0.002678</td><td>-0.0027</td><td>0.001</td><td>-0.0017</td></tr><tr><td>2019-01-21</td><td>0.011406</td><td>0.013689</td><td>-0.002283</td><td>0.0156</td><td>-0.0033</td><td>-0.008</td></tr><tr><td>2019-01-28</td><td>0.002433</td><td>0.001149</td><td>0.001284</td><td>0.0011</td><td>0.0031</td><td>-0.0131</td></tr><tr><td>2019-02-04</td><td>0.049045</td><td>0.040769</td><td>0.008276</td><td>0.0274</td><td>0.0156</td><td>0.0002</td></tr><tr><td>2019-02-11</td><td>0.013315</td><td>0.015438</td><td>-0.002123</td><td>0.0064</td><td>0.01</td><td>-0.0084</td></tr><tr><td>2019-02-18</td><td>0.009306</td><td>-0.002242</td><td>0.011548</td><td>0.005</td><td>-0.0039</td><td>-0.0131</td></tr><tr><td>2019-02-25</td><td>-0.047425</td><td>-0.043188</td><td>-0.004236</td><td>-0.0255</td><td>-0.0195</td><td>-0.0029</td></tr><tr><td>2019-03-04</td><td>0.028647</td><td>0.02048</td><td>0.008167</td><td>0.0282</td><td>-0.0092</td><td>-0.0047</td></tr></tbody></table></div>"
      ],
      "text/plain": [
       "shape: (10, 7)\n",
       "┌────────────┬───────────┬───────────┬───────────────────┬─────────┬─────────┬─────────┐\n",
       "│ week_start ┆ Q5_return ┆ Q1_return ┆ long_short_return ┆ Mkt-RF  ┆ SMB     ┆ HML     │\n",
       "│ ---        ┆ ---       ┆ ---       ┆ ---               ┆ ---     ┆ ---     ┆ ---     │\n",
       "│ date       ┆ f64       ┆ f64       ┆ f64               ┆ f64     ┆ f64     ┆ f64     │\n",
       "╞════════════╪═══════════╪═══════════╪═══════════════════╪═════════╪═════════╪═════════╡\n",
       "│ 2018-12-31 ┆ 0.061904  ┆ 0.03635   ┆ 0.025555          ┆ 0.0289  ┆ 0.0219  ┆ -0.0155 │\n",
       "│ 2019-01-07 ┆ 0.019328  ┆ 0.027373  ┆ -0.008046         ┆ 0.0284  ┆ -0.0085 ┆ 0.0089  │\n",
       "│ 2019-01-14 ┆ -0.001897 ┆ 0.000781  ┆ -0.002678         ┆ -0.0027 ┆ 0.001   ┆ -0.0017 │\n",
       "│ 2019-01-21 ┆ 0.011406  ┆ 0.013689  ┆ -0.002283         ┆ 0.0156  ┆ -0.0033 ┆ -0.008  │\n",
       "│ 2019-01-28 ┆ 0.002433  ┆ 0.001149  ┆ 0.001284          ┆ 0.0011  ┆ 0.0031  ┆ -0.0131 │\n",
       "│ 2019-02-04 ┆ 0.049045  ┆ 0.040769  ┆ 0.008276          ┆ 0.0274  ┆ 0.0156  ┆ 0.0002  │\n",
       "│ 2019-02-11 ┆ 0.013315  ┆ 0.015438  ┆ -0.002123         ┆ 0.0064  ┆ 0.01    ┆ -0.0084 │\n",
       "│ 2019-02-18 ┆ 0.009306  ┆ -0.002242 ┆ 0.011548          ┆ 0.005   ┆ -0.0039 ┆ -0.0131 │\n",
       "│ 2019-02-25 ┆ -0.047425 ┆ -0.043188 ┆ -0.004236         ┆ -0.0255 ┆ -0.0195 ┆ -0.0029 │\n",
       "│ 2019-03-04 ┆ 0.028647  ┆ 0.02048   ┆ 0.008167          ┆ 0.0282  ┆ -0.0092 ┆ -0.0047 │\n",
       "└────────────┴───────────┴───────────┴───────────────────┴─────────┴─────────┴─────────┘"
      ]
     },
     "execution_count": 25,
     "metadata": {},
     "output_type": "execute_result"
    }
   ],
   "source": [
    "# Create long-short portfolio: Q5 (high IV_skew) - Q1 (low IV_skew)\n",
    "q5_returns = quintile_returns.filter(pl.col(\"IV_skew_quintile\") == \"Q5\").select([\"week_start\", \"portfolio_excess_return\"]).rename({\"portfolio_excess_return\": \"Q5_return\"})\n",
    "q1_returns = quintile_returns.filter(pl.col(\"IV_skew_quintile\") == \"Q1\").select([\"week_start\", \"portfolio_excess_return\"]).rename({\"portfolio_excess_return\": \"Q1_return\"})\n",
    "\n",
    "long_short = (\n",
    "    q5_returns\n",
    "    .join(q1_returns, on=\"week_start\", how=\"inner\")\n",
    "    .with_columns([\n",
    "        (pl.col(\"Q5_return\") - pl.col(\"Q1_return\")).alias(\"long_short_return\")\n",
    "    ])\n",
    ")\n",
    "\n",
    "# Join with FF3 factors\n",
    "long_short = (\n",
    "    long_short\n",
    "    .join(\n",
    "        quintile_returns.filter(pl.col(\"IV_skew_quintile\") == \"Q5\").select([\"week_start\", \"Mkt-RF\", \"SMB\", \"HML\"]),\n",
    "        on=\"week_start\",\n",
    "        how=\"left\"\n",
    "    )\n",
    ")\n",
    "\n",
    "print(\"Long-Short Portfolio Summary Statistics:\")\n",
    "print(f\"Mean weekly return: {long_short['long_short_return'].mean():.4f}\")\n",
    "print(f\"Std dev: {long_short['long_short_return'].std():.4f}\")\n",
    "print(f\"Sharpe ratio (annualized): {(long_short['long_short_return'].mean() / long_short['long_short_return'].std()) * np.sqrt(52):.4f}\")\n",
    "print(f\"Number of weeks: {len(long_short)}\")\n",
    "\n",
    "long_short.head(10)\n"
   ]
  },
  {
   "cell_type": "code",
   "execution_count": 26,
   "id": "cd7947d6",
   "metadata": {},
   "outputs": [
    {
     "name": "stdout",
     "output_type": "stream",
     "text": [
      "================================================================================\n",
      "LONG-SHORT PORTFOLIO (Q5 - Q1): ALPHA TEST\n",
      "================================================================================\n",
      "                            OLS Regression Results                            \n",
      "==============================================================================\n",
      "Dep. Variable:      long_short_return   R-squared:                       0.491\n",
      "Model:                            OLS   Adj. R-squared:                  0.485\n",
      "Method:                 Least Squares   F-statistic:                     77.29\n",
      "Date:                Fri, 24 Oct 2025   Prob (F-statistic):           5.11e-35\n",
      "Time:                        16:51:42   Log-Likelihood:                 742.92\n",
      "No. Observations:                 244   AIC:                            -1478.\n",
      "Df Residuals:                     240   BIC:                            -1464.\n",
      "Df Model:                           3                                         \n",
      "Covariance Type:            nonrobust                                         \n",
      "==============================================================================\n",
      "                 coef    std err          t      P>|t|      [0.025      0.975]\n",
      "------------------------------------------------------------------------------\n",
      "const          0.0008      0.001      1.042      0.299      -0.001       0.002\n",
      "Mkt-RF         0.0983      0.027      3.676      0.000       0.046       0.151\n",
      "SMB            0.6661      0.051     13.102      0.000       0.566       0.766\n",
      "HML           -0.0620      0.028     -2.191      0.029      -0.118      -0.006\n",
      "==============================================================================\n",
      "Omnibus:                       14.939   Durbin-Watson:                   1.723\n",
      "Prob(Omnibus):                  0.001   Jarque-Bera (JB):               40.796\n",
      "Skew:                           0.065   Prob(JB):                     1.38e-09\n",
      "Kurtosis:                       4.999   Cond. No.                         69.3\n",
      "==============================================================================\n",
      "\n",
      "Notes:\n",
      "[1] Standard Errors assume that the covariance matrix of the errors is correctly specified.\n",
      "\n",
      "================================================================================\n",
      "KEY RESULTS:\n",
      "================================================================================\n",
      "Alpha (weekly): 0.000779\n",
      "Alpha (annualized): 0.0405 (4.05%)\n",
      "t-statistic: 1.0418\n",
      "p-value: 0.298560\n",
      "\n",
      "Alpha not significant at 5% level\n"
     ]
    }
   ],
   "source": [
    "# Test for significant alpha: Regress long-short returns on FF3 factors\n",
    "# Alpha = intercept from: R_long_short = alpha + beta_mkt * Mkt-RF + beta_smb * SMB + beta_hml * HML + epsilon\n",
    "\n",
    "# Convert to pandas for statsmodels\n",
    "long_short_pd = long_short.to_pandas().dropna()\n",
    "\n",
    "# Prepare regression variables\n",
    "Y_ls = long_short_pd['long_short_return']\n",
    "X_ls = long_short_pd[['Mkt-RF', 'SMB', 'HML']]\n",
    "X_ls = sm.add_constant(X_ls)\n",
    "\n",
    "# Run regression\n",
    "model_ls = sm.OLS(Y_ls, X_ls).fit()\n",
    "\n",
    "print(\"=\" * 80)\n",
    "print(\"LONG-SHORT PORTFOLIO (Q5 - Q1): ALPHA TEST\")\n",
    "print(\"=\" * 80)\n",
    "print(model_ls.summary())\n",
    "print(\"\\n\" + \"=\" * 80)\n",
    "print(\"KEY RESULTS:\")\n",
    "print(\"=\" * 80)\n",
    "print(f\"Alpha (weekly): {model_ls.params['const']:.6f}\")\n",
    "print(f\"Alpha (annualized): {model_ls.params['const'] * 52:.4f} ({model_ls.params['const'] * 52 * 100:.2f}%)\")\n",
    "print(f\"t-statistic: {model_ls.tvalues['const']:.4f}\")\n",
    "print(f\"p-value: {model_ls.pvalues['const']:.6f}\")\n",
    "print(f\"\\n{'*** SIGNIFICANT ALPHA ***' if model_ls.pvalues['const'] < 0.05 else 'Alpha not significant at 5% level'}\")\n"
   ]
  },
  {
   "cell_type": "code",
   "execution_count": 27,
   "id": "22e253aa",
   "metadata": {},
   "outputs": [
    {
     "name": "stdout",
     "output_type": "stream",
     "text": [
      "\n",
      "====================================================================================================\n",
      "QUINTILE PORTFOLIO ANALYSIS\n",
      "====================================================================================================\n",
      "Quintile  Mean_Return (weekly)  Mean_Return (annualized %)  Alpha (weekly)  Alpha (annualized %)    t-stat  p-value Significant\n",
      "      Q1              0.001327                    6.898122       -0.001169             -6.080659 -2.768418 0.006073         ***\n",
      "      Q2              0.002261                   11.757578       -0.000352             -1.832573 -1.129465 0.259829            \n",
      "      Q3              0.002417                   12.570082       -0.000411             -2.139753 -1.016982 0.310186            \n",
      "      Q4              0.002556                   13.291561       -0.000195             -1.013092 -0.378720 0.705230            \n",
      "      Q5              0.002233                   11.613096       -0.000391             -2.030823 -0.509566 0.610824            \n",
      "\n",
      "Significance levels: *** p<0.01, ** p<0.05, * p<0.10\n"
     ]
    }
   ],
   "source": [
    "# Analyze each quintile separately to see the pattern\n",
    "# Calculate average returns and alphas for each quintile\n",
    "\n",
    "quintile_results = []\n",
    "\n",
    "for q in [\"Q1\", \"Q2\", \"Q3\", \"Q4\", \"Q5\"]:\n",
    "    q_data = quintile_returns.filter(pl.col(\"IV_skew_quintile\") == q).to_pandas().dropna()\n",
    "    \n",
    "    # Calculate mean return\n",
    "    mean_return = q_data['portfolio_excess_return'].mean()\n",
    "    \n",
    "    # Run FF3 regression to get alpha\n",
    "    Y_q = q_data['portfolio_excess_return']\n",
    "    X_q = q_data[['Mkt-RF', 'SMB', 'HML']]\n",
    "    X_q = sm.add_constant(X_q)\n",
    "    \n",
    "    model_q = sm.OLS(Y_q, X_q).fit()\n",
    "    alpha = model_q.params['const']\n",
    "    alpha_tstat = model_q.tvalues['const']\n",
    "    alpha_pval = model_q.pvalues['const']\n",
    "    \n",
    "    quintile_results.append({\n",
    "        'Quintile': q,\n",
    "        'Mean_Return (weekly)': mean_return,\n",
    "        'Mean_Return (annualized %)': mean_return * 52 * 100,\n",
    "        'Alpha (weekly)': alpha,\n",
    "        'Alpha (annualized %)': alpha * 52 * 100,\n",
    "        't-stat': alpha_tstat,\n",
    "        'p-value': alpha_pval,\n",
    "        'Significant': '***' if alpha_pval < 0.01 else '**' if alpha_pval < 0.05 else '*' if alpha_pval < 0.10 else ''\n",
    "    })\n",
    "\n",
    "quintile_summary = pd.DataFrame(quintile_results)\n",
    "print(\"\\n\" + \"=\" * 100)\n",
    "print(\"QUINTILE PORTFOLIO ANALYSIS\")\n",
    "print(\"=\" * 100)\n",
    "print(quintile_summary.to_string(index=False))\n",
    "print(\"\\nSignificance levels: *** p<0.01, ** p<0.05, * p<0.10\")\n"
   ]
  },
  {
   "cell_type": "code",
   "execution_count": 28,
   "id": "5aaa5590",
   "metadata": {},
   "outputs": [
    {
     "name": "stderr",
     "output_type": "stream",
     "text": [
      "/var/folders/cf/zk37hd_50bv_nlrdlxrb4q3r0000gn/T/ipykernel_86771/1337958186.py:29: UserWarning: The figure layout has changed to tight\n",
      "  plt.tight_layout()\n"
     ]
    },
    {
     "data": {
      "image/png": "[encoded data removed]",
      "text/plain": [
       "<Figure size 1400x500 with 2 Axes>"
      ]
     },
     "metadata": {},
     "output_type": "display_data"
    },
    {
     "name": "stdout",
     "output_type": "stream",
     "text": [
      "\n",
      "Interpretation:\n",
      "- Q1 = Lowest IV Skew (puts cheaper relative to calls)\n",
      "- Q5 = Highest IV Skew (puts more expensive relative to calls)\n"
     ]
    }
   ],
   "source": [
    "# Visualize the alpha pattern across quintiles\n",
    "fig, (ax1, ax2) = plt.subplots(1, 2, figsize=(14, 5))\n",
    "\n",
    "# Plot 1: Average returns by quintile\n",
    "colors = ['red' if x < 0 else 'green' for x in quintile_summary['Alpha (annualized %)']]\n",
    "ax1.bar(quintile_summary['Quintile'], quintile_summary['Mean_Return (annualized %)'], color=colors, alpha=0.6, edgecolor='black')\n",
    "ax1.axhline(y=0, color='black', linestyle='-', linewidth=0.8)\n",
    "ax1.set_xlabel('IV Skew Quintile', fontsize=12)\n",
    "ax1.set_ylabel('Mean Excess Return (% per year)', fontsize=12)\n",
    "ax1.set_title('Average Returns by IV Skew Quintile', fontsize=14, fontweight='bold')\n",
    "ax1.grid(True, alpha=0.3)\n",
    "\n",
    "# Plot 2: Alphas by quintile\n",
    "colors_alpha = ['red' if x < 0 else 'green' for x in quintile_summary['Alpha (annualized %)']]\n",
    "bars = ax2.bar(quintile_summary['Quintile'], quintile_summary['Alpha (annualized %)'], color=colors_alpha, alpha=0.6, edgecolor='black')\n",
    "\n",
    "# Add significance stars on bars\n",
    "for i, (idx, row) in enumerate(quintile_summary.iterrows()):\n",
    "    if row['Significant']:\n",
    "        ax2.text(i, row['Alpha (annualized %)'] + 0.5, row['Significant'], \n",
    "                ha='center', va='bottom', fontsize=14, fontweight='bold')\n",
    "\n",
    "ax2.axhline(y=0, color='black', linestyle='-', linewidth=0.8)\n",
    "ax2.set_xlabel('IV Skew Quintile', fontsize=12)\n",
    "ax2.set_ylabel('Alpha (% per year)', fontsize=12)\n",
    "ax2.set_title('FF3 Alpha by IV Skew Quintile', fontsize=14, fontweight='bold')\n",
    "ax2.grid(True, alpha=0.3)\n",
    "\n",
    "plt.tight_layout()\n",
    "plt.show()\n",
    "\n",
    "print(\"\\nInterpretation:\")\n",
    "print(\"- Q1 = Lowest IV Skew (puts cheaper relative to calls)\")\n",
    "print(\"- Q5 = Highest IV Skew (puts more expensive relative to calls)\")\n"
   ]
  },
  {
   "cell_type": "code",
   "execution_count": 29,
   "id": "a2b02dd9",
   "metadata": {},
   "outputs": [
    {
     "name": "stderr",
     "output_type": "stream",
     "text": [
      "/var/folders/cf/zk37hd_50bv_nlrdlxrb4q3r0000gn/T/ipykernel_86771/1378220552.py:12: UserWarning: The figure layout has changed to tight\n",
      "  plt.tight_layout()\n"
     ]
    },
    {
     "data": {
      "image/png": "[encoded data removed]",
      "text/plain": [
       "<Figure size 1400x600 with 1 Axes>"
      ]
     },
     "metadata": {},
     "output_type": "display_data"
    },
    {
     "name": "stdout",
     "output_type": "stream",
     "text": [
      "\n",
      "Total cumulative return: 20.85%\n",
      "Number of positive weeks: 131\n",
      "Number of negative weeks: 113\n",
      "Win rate: 53.69%\n"
     ]
    }
   ],
   "source": [
    "# Plot cumulative returns of long-short portfolio over time\n",
    "long_short_pd = long_short_pd.sort_values('week_start')\n",
    "long_short_pd['cumulative_return'] = (1 + long_short_pd['long_short_return']).cumprod() - 1\n",
    "\n",
    "plt.figure(figsize=(14, 6))\n",
    "plt.plot(long_short_pd['week_start'], long_short_pd['cumulative_return'] * 100, linewidth=2, color='darkblue')\n",
    "plt.axhline(y=0, color='red', linestyle='--', linewidth=1, alpha=0.7)\n",
    "plt.xlabel('Date', fontsize=12)\n",
    "plt.ylabel('Cumulative Return (%)', fontsize=12)\n",
    "plt.title('Cumulative Returns: Long-Short Portfolio (Q5 - Q1) Based on IV Skew', fontsize=14, fontweight='bold')\n",
    "plt.grid(True, alpha=0.3)\n",
    "plt.tight_layout()\n",
    "plt.show()\n",
    "\n",
    "print(f\"\\nTotal cumulative return: {long_short_pd['cumulative_return'].iloc[-1] * 100:.2f}%\")\n",
    "print(f\"Number of positive weeks: {(long_short_pd['long_short_return'] > 0).sum()}\")\n",
    "print(f\"Number of negative weeks: {(long_short_pd['long_short_return'] < 0).sum()}\")\n",
    "print(f\"Win rate: {(long_short_pd['long_short_return'] > 0).sum() / len(long_short_pd) * 100:.2f}%\")\n"
   ]
  },
  {
   "cell_type": "markdown",
   "metadata": {},
   "source": []
  },
  {
   "cell_type": "markdown",
   "id": "3dcfdf3e",
   "metadata": {},
   "source": [
    "### Interpretation Guide\n",
    "\n",
    "**What we're testing:**\n",
    "- Does IV skew (call IV - put IV) predict future stock returns?\n",
    "- If high IV skew predicts higher/lower returns, is this effect significant after controlling for FF3 factors?\n",
    "\n",
    "**How to interpret the results:**\n",
    "\n",
    "1. **Long-Short Alpha Test:**\n",
    "   - **Alpha**: The risk-adjusted return of the long-short portfolio (Q5 - Q1)\n",
    "   - **p-value < 0.05**: Statistically significant at 5% level (strong evidence)\n",
    "   - **p-value < 0.01**: Highly significant (very strong evidence)\n",
    "   - **Positive alpha**: High IV skew stocks outperform low IV skew stocks\n",
    "   - **Negative alpha**: Low IV skew stocks outperform high IV skew stocks\n",
    "\n",
    "2. **Quintile Analysis:**\n",
    "   - Look for **monotonic pattern**: Returns should increase (or decrease) consistently from Q1 to Q5\n",
    "   - **Significant alphas**: Individual quintiles with significant risk-adjusted returns\n",
    "   - **Economic magnitude**: Annualized alpha > 5% is economically meaningful for trading\n",
    "\n",
    "3. **Economic Intuition:**\n",
    "   - **Negative relationship** (Q1 > Q5): High skew (expensive puts) signals overpricing or investor fear → lower future returns\n",
    "   - **Positive relationship** (Q5 > Q1): High skew signals informed trading or mispricing → higher future returns\n",
    "   \n",
    "**What makes a strong result:**\n",
    "- ✅ Significant long-short alpha (p < 0.05)\n",
    "- ✅ Monotonic pattern across quintiles\n",
    "- ✅ Economically large effect (annualized alpha > 3-5%)\n",
    "- ✅ Stable over time (cumulative returns chart trends consistently)\n"
   ]
  }
 ],
 "metadata": {
  "kernelspec": {
   "display_name": "Python 3",
   "language": "python",
   "name": "python3"
  },
  "language_info": {
   "codemirror_mode": {
    "name": "ipython",
    "version": 3
   },
   "file_extension": ".py",
   "mimetype": "text/x-python",
   "name": "python",
   "nbconvert_exporter": "python",
   "pygments_lexer": "ipython3",
   "version": "3.11.5"
  }
 },
 "nbformat": 4,
 "nbformat_minor": 4
}
