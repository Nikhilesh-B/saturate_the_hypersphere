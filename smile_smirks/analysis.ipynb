{
 "cells": [
  {
   "cell_type": "code",
   "execution_count": 3,
   "id": "7768e1ec",
   "metadata": {},
   "outputs": [
    {
     "name": "stdout",
     "output_type": "stream",
     "text": [
      "All libraries imported successfully\n"
     ]
    }
   ],
   "source": [
    "# Data manipulation and analysis\n",
    "import pandas as pd\n",
    "import numpy as np\n",
    "import polars as pl \n",
    "\n",
    "# Statistical modeling and diagnostics\n",
    "import statsmodels.api as sm\n",
    "from statsmodels.stats.outliers_influence import variance_inflation_factor\n",
    "from statsmodels.stats.diagnostic import het_breuschpagan, het_white\n",
    "from statsmodels.stats.stattools import jarque_bera\n",
    "\n",
    "# Machine learning and preprocessing\n",
    "from sklearn.preprocessing import StandardScaler\n",
    "from sklearn.model_selection import train_test_split\n",
    "from sklearn.metrics import r2_score\n",
    "\n",
    "# Data visualization\n",
    "import matplotlib.pyplot as plt\n",
    "import seaborn as sns\n",
    "\n",
    "# Data source\n",
    "from ucimlrepo import fetch_ucirepo\n",
    "\n",
    "# Configure plotting\n",
    "plt.style.use('default')\n",
    "sns.set_palette(\"husl\")\n",
    "plt.rcParams['figure.figsize'] = (10, 6)\n",
    "plt.rcParams['font.size'] = 11\n",
    "\n",
    "plt.rcParams['figure.constrained_layout.use'] = True\n",
    "print(\"All libraries imported successfully\")"
   ]
  },
  {
   "cell_type": "markdown",
   "id": "18eb6b9d",
   "metadata": {},
   "source": [
    "### Importing options data"
   ]
  },
  {
   "cell_type": "code",
   "execution_count": 4,
   "id": "a8a60176",
   "metadata": {},
   "outputs": [],
   "source": [
    "option_df = pl.read_csv('raw_data/options_data.csv')"
   ]
  },
  {
   "cell_type": "code",
   "execution_count": 5,
   "id": "cab335cd",
   "metadata": {},
   "outputs": [
    {
     "data": {
      "text/html": [
       "<div><style>\n",
       ".dataframe > thead > tr,\n",
       ".dataframe > tbody > tr {\n",
       "  text-align: right;\n",
       "  white-space: pre-wrap;\n",
       "}\n",
       "</style>\n",
       "<small>shape: (131_123_808, 15)</small><table border=\"1\" class=\"dataframe\"><thead><tr><th>secid</th><th>date</th><th>exdate</th><th>cp_flag</th><th>strike_price</th><th>volume</th><th>open_interest</th><th>impl_volatility</th><th>opprc</th><th>moneyness</th><th>tte</th><th>close</th><th>spread</th><th>mod_open_interest</th><th>noi</th></tr><tr><td>i64</td><td>str</td><td>str</td><td>str</td><td>i64</td><td>i64</td><td>i64</td><td>f64</td><td>f64</td><td>f64</td><td>i64</td><td>f64</td><td>f64</td><td>i64</td><td>i64</td></tr></thead><tbody><tr><td>5594</td><td>&quot;2021-10-07&quot;</td><td>&quot;2021-11-19&quot;</td><td>&quot;C&quot;</td><td>10000</td><td>0</td><td>2</td><td>0.422947</td><td>1.25</td><td>0.907441</td><td>43</td><td>11.02</td><td>0.4</td><td>2</td><td>2</td></tr><tr><td>5594</td><td>&quot;2021-10-08&quot;</td><td>&quot;2021-11-19&quot;</td><td>&quot;C&quot;</td><td>10000</td><td>0</td><td>2</td><td>0.456293</td><td>1.375</td><td>0.897666</td><td>42</td><td>11.14</td><td>0.15</td><td>2</td><td>0</td></tr><tr><td>5594</td><td>&quot;2021-10-11&quot;</td><td>&quot;2021-11-19&quot;</td><td>&quot;C&quot;</td><td>10000</td><td>0</td><td>2</td><td>0.438753</td><td>1.275</td><td>0.904159</td><td>39</td><td>11.06</td><td>0.35</td><td>2</td><td>0</td></tr><tr><td>5594</td><td>&quot;2021-10-12&quot;</td><td>&quot;2021-11-19&quot;</td><td>&quot;C&quot;</td><td>10000</td><td>0</td><td>2</td><td>0.453386</td><td>1.3</td><td>0.902527</td><td>38</td><td>11.08</td><td>0.4</td><td>2</td><td>0</td></tr><tr><td>5594</td><td>&quot;2021-10-13&quot;</td><td>&quot;2021-11-19&quot;</td><td>&quot;C&quot;</td><td>10000</td><td>0</td><td>2</td><td>0.424783</td><td>1.225</td><td>0.906618</td><td>37</td><td>11.03</td><td>0.35</td><td>2</td><td>0</td></tr><tr><td>&hellip;</td><td>&hellip;</td><td>&hellip;</td><td>&hellip;</td><td>&hellip;</td><td>&hellip;</td><td>&hellip;</td><td>&hellip;</td><td>&hellip;</td><td>&hellip;</td><td>&hellip;</td><td>&hellip;</td><td>&hellip;</td><td>&hellip;</td><td>&hellip;</td></tr><tr><td>218609</td><td>&quot;2023-08-31&quot;</td><td>&quot;2023-09-15&quot;</td><td>&quot;P&quot;</td><td>90000</td><td>0</td><td>1</td><td>0.477438</td><td>11.55</td><td>1.14431</td><td>15</td><td>78.65</td><td>2.5</td><td>null</td><td>null</td></tr><tr><td>218609</td><td>&quot;2023-08-31&quot;</td><td>&quot;2023-10-20&quot;</td><td>&quot;P&quot;</td><td>60000</td><td>0</td><td>2</td><td>0.506986</td><td>0.425</td><td>0.762873</td><td>50</td><td>78.65</td><td>0.65</td><td>null</td><td>null</td></tr><tr><td>218609</td><td>&quot;2023-08-31&quot;</td><td>&quot;2023-10-20&quot;</td><td>&quot;P&quot;</td><td>70000</td><td>0</td><td>19</td><td>0.33145</td><td>0.825</td><td>0.890019</td><td>50</td><td>78.65</td><td>0.15</td><td>null</td><td>null</td></tr><tr><td>218609</td><td>&quot;2023-08-31&quot;</td><td>&quot;2023-10-20&quot;</td><td>&quot;P&quot;</td><td>75000</td><td>0</td><td>16</td><td>0.24364</td><td>1.3</td><td>0.953592</td><td>50</td><td>78.65</td><td>1.0</td><td>null</td><td>null</td></tr><tr><td>218609</td><td>&quot;2023-08-31&quot;</td><td>&quot;2023-10-20&quot;</td><td>&quot;P&quot;</td><td>80000</td><td>0</td><td>3</td><td>0.239269</td><td>3.5</td><td>1.017165</td><td>50</td><td>78.65</td><td>2.8</td><td>null</td><td>null</td></tr></tbody></table></div>"
      ],
      "text/plain": [
       "shape: (131_123_808, 15)\n",
       "┌────────┬────────────┬────────────┬─────────┬───┬───────┬────────┬───────────────────┬──────┐\n",
       "│ secid  ┆ date       ┆ exdate     ┆ cp_flag ┆ … ┆ close ┆ spread ┆ mod_open_interest ┆ noi  │\n",
       "│ ---    ┆ ---        ┆ ---        ┆ ---     ┆   ┆ ---   ┆ ---    ┆ ---               ┆ ---  │\n",
       "│ i64    ┆ str        ┆ str        ┆ str     ┆   ┆ f64   ┆ f64    ┆ i64               ┆ i64  │\n",
       "╞════════╪════════════╪════════════╪═════════╪═══╪═══════╪════════╪═══════════════════╪══════╡\n",
       "│ 5594   ┆ 2021-10-07 ┆ 2021-11-19 ┆ C       ┆ … ┆ 11.02 ┆ 0.4    ┆ 2                 ┆ 2    │\n",
       "│ 5594   ┆ 2021-10-08 ┆ 2021-11-19 ┆ C       ┆ … ┆ 11.14 ┆ 0.15   ┆ 2                 ┆ 0    │\n",
       "│ 5594   ┆ 2021-10-11 ┆ 2021-11-19 ┆ C       ┆ … ┆ 11.06 ┆ 0.35   ┆ 2                 ┆ 0    │\n",
       "│ 5594   ┆ 2021-10-12 ┆ 2021-11-19 ┆ C       ┆ … ┆ 11.08 ┆ 0.4    ┆ 2                 ┆ 0    │\n",
       "│ 5594   ┆ 2021-10-13 ┆ 2021-11-19 ┆ C       ┆ … ┆ 11.03 ┆ 0.35   ┆ 2                 ┆ 0    │\n",
       "│ …      ┆ …          ┆ …          ┆ …       ┆ … ┆ …     ┆ …      ┆ …                 ┆ …    │\n",
       "│ 218609 ┆ 2023-08-31 ┆ 2023-09-15 ┆ P       ┆ … ┆ 78.65 ┆ 2.5    ┆ null              ┆ null │\n",
       "│ 218609 ┆ 2023-08-31 ┆ 2023-10-20 ┆ P       ┆ … ┆ 78.65 ┆ 0.65   ┆ null              ┆ null │\n",
       "│ 218609 ┆ 2023-08-31 ┆ 2023-10-20 ┆ P       ┆ … ┆ 78.65 ┆ 0.15   ┆ null              ┆ null │\n",
       "│ 218609 ┆ 2023-08-31 ┆ 2023-10-20 ┆ P       ┆ … ┆ 78.65 ┆ 1.0    ┆ null              ┆ null │\n",
       "│ 218609 ┆ 2023-08-31 ┆ 2023-10-20 ┆ P       ┆ … ┆ 78.65 ┆ 2.8    ┆ null              ┆ null │\n",
       "└────────┴────────────┴────────────┴─────────┴───┴───────┴────────┴───────────────────┴──────┘"
      ]
     },
     "execution_count": 5,
     "metadata": {},
     "output_type": "execute_result"
    }
   ],
   "source": [
    "option_df"
   ]
  },
  {
   "cell_type": "code",
   "execution_count": 6,
   "id": "3b379153",
   "metadata": {},
   "outputs": [
    {
     "name": "stdout",
     "output_type": "stream",
     "text": [
      "Start date = 2019-01-02\n",
      "End date = 2023-08-31\n"
     ]
    }
   ],
   "source": [
    "start_date = option_df['date'].min()\n",
    "end_date = option_df['date'].max()\n",
    "print(\"Start date =\", start_date)\n",
    "print(\"End date =\", end_date)"
   ]
  },
  {
   "cell_type": "markdown",
   "id": "8876283c",
   "metadata": {},
   "source": [
    "## Importing returns data"
   ]
  },
  {
   "cell_type": "code",
   "execution_count": 7,
   "id": "38877c5f",
   "metadata": {},
   "outputs": [],
   "source": [
    "ret_df = (\n",
    "    pl.read_csv(\n",
    "        \"./raw_data/all_equities.csv\",\n",
    "        schema_overrides={\"RET\": pl.Utf8}\n",
    "    )\n",
    "    .with_columns(pl.col(\"RET\").cast(pl.Float64, strict=False))\n",
    ")"
   ]
  },
  {
   "cell_type": "code",
   "execution_count": 8,
   "id": "a6767201",
   "metadata": {},
   "outputs": [
    {
     "data": {
      "text/html": [
       "<div><style>\n",
       ".dataframe > thead > tr,\n",
       ".dataframe > tbody > tr {\n",
       "  text-align: right;\n",
       "  white-space: pre-wrap;\n",
       "}\n",
       "</style>\n",
       "<small>shape: (10_795_504, 6)</small><table border=\"1\" class=\"dataframe\"><thead><tr><th>PERMNO</th><th>date</th><th>TICKER</th><th>COMNAM</th><th>PRC</th><th>RET</th></tr><tr><td>i64</td><td>str</td><td>str</td><td>str</td><td>f64</td><td>f64</td></tr></thead><tbody><tr><td>10026</td><td>&quot;2019-01-02&quot;</td><td>&quot;JJSF&quot;</td><td>&quot;J &amp; J SNACK FOODS CORP&quot;</td><td>141.0</td><td>-0.024829</td></tr><tr><td>10026</td><td>&quot;2019-01-03&quot;</td><td>&quot;JJSF&quot;</td><td>&quot;J &amp; J SNACK FOODS CORP&quot;</td><td>143.02</td><td>0.014326</td></tr><tr><td>10026</td><td>&quot;2019-01-04&quot;</td><td>&quot;JJSF&quot;</td><td>&quot;J &amp; J SNACK FOODS CORP&quot;</td><td>144.84</td><td>0.012725</td></tr><tr><td>10026</td><td>&quot;2019-01-07&quot;</td><td>&quot;JJSF&quot;</td><td>&quot;J &amp; J SNACK FOODS CORP&quot;</td><td>145.41</td><td>0.003935</td></tr><tr><td>10026</td><td>&quot;2019-01-08&quot;</td><td>&quot;JJSF&quot;</td><td>&quot;J &amp; J SNACK FOODS CORP&quot;</td><td>148.7</td><td>0.022626</td></tr><tr><td>&hellip;</td><td>&hellip;</td><td>&hellip;</td><td>&hellip;</td><td>&hellip;</td><td>&hellip;</td></tr><tr><td>93436</td><td>&quot;2023-12-22&quot;</td><td>&quot;TSLA&quot;</td><td>&quot;TESLA INC&quot;</td><td>252.53999</td><td>-0.007701</td></tr><tr><td>93436</td><td>&quot;2023-12-26&quot;</td><td>&quot;TSLA&quot;</td><td>&quot;TESLA INC&quot;</td><td>256.60999</td><td>0.016116</td></tr><tr><td>93436</td><td>&quot;2023-12-27&quot;</td><td>&quot;TSLA&quot;</td><td>&quot;TESLA INC&quot;</td><td>261.44</td><td>0.018822</td></tr><tr><td>93436</td><td>&quot;2023-12-28&quot;</td><td>&quot;TSLA&quot;</td><td>&quot;TESLA INC&quot;</td><td>253.17999</td><td>-0.031594</td></tr><tr><td>93436</td><td>&quot;2023-12-29&quot;</td><td>&quot;TSLA&quot;</td><td>&quot;TESLA INC&quot;</td><td>248.48</td><td>-0.018564</td></tr></tbody></table></div>"
      ],
      "text/plain": [
       "shape: (10_795_504, 6)\n",
       "┌────────┬────────────┬────────┬────────────────────────┬───────────┬───────────┐\n",
       "│ PERMNO ┆ date       ┆ TICKER ┆ COMNAM                 ┆ PRC       ┆ RET       │\n",
       "│ ---    ┆ ---        ┆ ---    ┆ ---                    ┆ ---       ┆ ---       │\n",
       "│ i64    ┆ str        ┆ str    ┆ str                    ┆ f64       ┆ f64       │\n",
       "╞════════╪════════════╪════════╪════════════════════════╪═══════════╪═══════════╡\n",
       "│ 10026  ┆ 2019-01-02 ┆ JJSF   ┆ J & J SNACK FOODS CORP ┆ 141.0     ┆ -0.024829 │\n",
       "│ 10026  ┆ 2019-01-03 ┆ JJSF   ┆ J & J SNACK FOODS CORP ┆ 143.02    ┆ 0.014326  │\n",
       "│ 10026  ┆ 2019-01-04 ┆ JJSF   ┆ J & J SNACK FOODS CORP ┆ 144.84    ┆ 0.012725  │\n",
       "│ 10026  ┆ 2019-01-07 ┆ JJSF   ┆ J & J SNACK FOODS CORP ┆ 145.41    ┆ 0.003935  │\n",
       "│ 10026  ┆ 2019-01-08 ┆ JJSF   ┆ J & J SNACK FOODS CORP ┆ 148.7     ┆ 0.022626  │\n",
       "│ …      ┆ …          ┆ …      ┆ …                      ┆ …         ┆ …         │\n",
       "│ 93436  ┆ 2023-12-22 ┆ TSLA   ┆ TESLA INC              ┆ 252.53999 ┆ -0.007701 │\n",
       "│ 93436  ┆ 2023-12-26 ┆ TSLA   ┆ TESLA INC              ┆ 256.60999 ┆ 0.016116  │\n",
       "│ 93436  ┆ 2023-12-27 ┆ TSLA   ┆ TESLA INC              ┆ 261.44    ┆ 0.018822  │\n",
       "│ 93436  ┆ 2023-12-28 ┆ TSLA   ┆ TESLA INC              ┆ 253.17999 ┆ -0.031594 │\n",
       "│ 93436  ┆ 2023-12-29 ┆ TSLA   ┆ TESLA INC              ┆ 248.48    ┆ -0.018564 │\n",
       "└────────┴────────────┴────────┴────────────────────────┴───────────┴───────────┘"
      ]
     },
     "execution_count": 8,
     "metadata": {},
     "output_type": "execute_result"
    }
   ],
   "source": [
    "ret_df"
   ]
  },
  {
   "cell_type": "markdown",
   "id": "87ccd95b",
   "metadata": {},
   "source": [
    "## Mapping sec_id and PERMNO to join them"
   ]
  },
  {
   "cell_type": "code",
   "execution_count": 9,
   "id": "a71d3091",
   "metadata": {},
   "outputs": [],
   "source": [
    "map_df = pl.read_csv(\"./raw_data/permno_secid_mapping.csv\")"
   ]
  },
  {
   "cell_type": "code",
   "execution_count": 10,
   "id": "916210f0",
   "metadata": {},
   "outputs": [
    {
     "data": {
      "text/html": [
       "<div><style>\n",
       ".dataframe > thead > tr,\n",
       ".dataframe > tbody > tr {\n",
       "  text-align: right;\n",
       "  white-space: pre-wrap;\n",
       "}\n",
       "</style>\n",
       "<small>shape: (16_461, 4)</small><table border=\"1\" class=\"dataframe\"><thead><tr><th>secid</th><th>sdate</th><th>edate</th><th>PERMNO</th></tr><tr><td>i64</td><td>str</td><td>str</td><td>i64</td></tr></thead><tbody><tr><td>5111</td><td>&quot;2021-03-18&quot;</td><td>&quot;2023-02-02&quot;</td><td>20768</td></tr><tr><td>5121</td><td>&quot;2018-02-28&quot;</td><td>&quot;2019-08-13&quot;</td><td>17295</td></tr><tr><td>5131</td><td>&quot;2007-04-02&quot;</td><td>&quot;2024-05-02&quot;</td><td>88960</td></tr><tr><td>5139</td><td>&quot;2002-07-29&quot;</td><td>&quot;2024-12-31&quot;</td><td>89462</td></tr><tr><td>5166</td><td>&quot;2014-01-15&quot;</td><td>&quot;2022-05-06&quot;</td><td>14380</td></tr><tr><td>&hellip;</td><td>&hellip;</td><td>&hellip;</td><td>&hellip;</td></tr><tr><td>219171</td><td>&quot;2024-01-04&quot;</td><td>&quot;2024-12-31&quot;</td><td>24747</td></tr><tr><td>219172</td><td>&quot;2024-01-04&quot;</td><td>&quot;2024-12-31&quot;</td><td>24746</td></tr><tr><td>219173</td><td>&quot;2024-01-04&quot;</td><td>&quot;2024-12-31&quot;</td><td>24718</td></tr><tr><td>219174</td><td>&quot;2024-01-25&quot;</td><td>&quot;2024-12-31&quot;</td><td>24685</td></tr><tr><td>219175</td><td>&quot;2024-02-01&quot;</td><td>&quot;2024-12-31&quot;</td><td>24818</td></tr></tbody></table></div>"
      ],
      "text/plain": [
       "shape: (16_461, 4)\n",
       "┌────────┬────────────┬────────────┬────────┐\n",
       "│ secid  ┆ sdate      ┆ edate      ┆ PERMNO │\n",
       "│ ---    ┆ ---        ┆ ---        ┆ ---    │\n",
       "│ i64    ┆ str        ┆ str        ┆ i64    │\n",
       "╞════════╪════════════╪════════════╪════════╡\n",
       "│ 5111   ┆ 2021-03-18 ┆ 2023-02-02 ┆ 20768  │\n",
       "│ 5121   ┆ 2018-02-28 ┆ 2019-08-13 ┆ 17295  │\n",
       "│ 5131   ┆ 2007-04-02 ┆ 2024-05-02 ┆ 88960  │\n",
       "│ 5139   ┆ 2002-07-29 ┆ 2024-12-31 ┆ 89462  │\n",
       "│ 5166   ┆ 2014-01-15 ┆ 2022-05-06 ┆ 14380  │\n",
       "│ …      ┆ …          ┆ …          ┆ …      │\n",
       "│ 219171 ┆ 2024-01-04 ┆ 2024-12-31 ┆ 24747  │\n",
       "│ 219172 ┆ 2024-01-04 ┆ 2024-12-31 ┆ 24746  │\n",
       "│ 219173 ┆ 2024-01-04 ┆ 2024-12-31 ┆ 24718  │\n",
       "│ 219174 ┆ 2024-01-25 ┆ 2024-12-31 ┆ 24685  │\n",
       "│ 219175 ┆ 2024-02-01 ┆ 2024-12-31 ┆ 24818  │\n",
       "└────────┴────────────┴────────────┴────────┘"
      ]
     },
     "execution_count": 10,
     "metadata": {},
     "output_type": "execute_result"
    }
   ],
   "source": [
    "filtered_map = map_df.filter(pl.col('edate')>start_date)\n",
    "filtered_map"
   ]
  },
  {
   "cell_type": "markdown",
   "id": "326996e9",
   "metadata": {},
   "source": [
    "## Merging secid and permno "
   ]
  },
  {
   "cell_type": "code",
   "execution_count": 11,
   "id": "f727bd1f",
   "metadata": {},
   "outputs": [
    {
     "data": {
      "text/html": [
       "<div><style>\n",
       ".dataframe > thead > tr,\n",
       ".dataframe > tbody > tr {\n",
       "  text-align: right;\n",
       "  white-space: pre-wrap;\n",
       "}\n",
       "</style>\n",
       "<small>shape: (14_832_526, 9)</small><table border=\"1\" class=\"dataframe\"><thead><tr><th>PERMNO</th><th>date</th><th>TICKER</th><th>COMNAM</th><th>PRC</th><th>RET</th><th>secid</th><th>sdate</th><th>edate</th></tr><tr><td>i64</td><td>str</td><td>str</td><td>str</td><td>f64</td><td>f64</td><td>i64</td><td>str</td><td>str</td></tr></thead><tbody><tr><td>10026</td><td>&quot;2019-01-02&quot;</td><td>&quot;JJSF&quot;</td><td>&quot;J &amp; J SNACK FOODS CORP&quot;</td><td>141.0</td><td>-0.024829</td><td>106500</td><td>&quot;1996-01-02&quot;</td><td>&quot;2024-12-31&quot;</td></tr><tr><td>10026</td><td>&quot;2019-01-03&quot;</td><td>&quot;JJSF&quot;</td><td>&quot;J &amp; J SNACK FOODS CORP&quot;</td><td>143.02</td><td>0.014326</td><td>106500</td><td>&quot;1996-01-02&quot;</td><td>&quot;2024-12-31&quot;</td></tr><tr><td>10026</td><td>&quot;2019-01-04&quot;</td><td>&quot;JJSF&quot;</td><td>&quot;J &amp; J SNACK FOODS CORP&quot;</td><td>144.84</td><td>0.012725</td><td>106500</td><td>&quot;1996-01-02&quot;</td><td>&quot;2024-12-31&quot;</td></tr><tr><td>10026</td><td>&quot;2019-01-07&quot;</td><td>&quot;JJSF&quot;</td><td>&quot;J &amp; J SNACK FOODS CORP&quot;</td><td>145.41</td><td>0.003935</td><td>106500</td><td>&quot;1996-01-02&quot;</td><td>&quot;2024-12-31&quot;</td></tr><tr><td>10026</td><td>&quot;2019-01-08&quot;</td><td>&quot;JJSF&quot;</td><td>&quot;J &amp; J SNACK FOODS CORP&quot;</td><td>148.7</td><td>0.022626</td><td>106500</td><td>&quot;1996-01-02&quot;</td><td>&quot;2024-12-31&quot;</td></tr><tr><td>&hellip;</td><td>&hellip;</td><td>&hellip;</td><td>&hellip;</td><td>&hellip;</td><td>&hellip;</td><td>&hellip;</td><td>&hellip;</td><td>&hellip;</td></tr><tr><td>93436</td><td>&quot;2023-12-22&quot;</td><td>&quot;TSLA&quot;</td><td>&quot;TESLA INC&quot;</td><td>252.53999</td><td>-0.007701</td><td>143439</td><td>&quot;2010-06-29&quot;</td><td>&quot;2024-12-31&quot;</td></tr><tr><td>93436</td><td>&quot;2023-12-26&quot;</td><td>&quot;TSLA&quot;</td><td>&quot;TESLA INC&quot;</td><td>256.60999</td><td>0.016116</td><td>143439</td><td>&quot;2010-06-29&quot;</td><td>&quot;2024-12-31&quot;</td></tr><tr><td>93436</td><td>&quot;2023-12-27&quot;</td><td>&quot;TSLA&quot;</td><td>&quot;TESLA INC&quot;</td><td>261.44</td><td>0.018822</td><td>143439</td><td>&quot;2010-06-29&quot;</td><td>&quot;2024-12-31&quot;</td></tr><tr><td>93436</td><td>&quot;2023-12-28&quot;</td><td>&quot;TSLA&quot;</td><td>&quot;TESLA INC&quot;</td><td>253.17999</td><td>-0.031594</td><td>143439</td><td>&quot;2010-06-29&quot;</td><td>&quot;2024-12-31&quot;</td></tr><tr><td>93436</td><td>&quot;2023-12-29&quot;</td><td>&quot;TSLA&quot;</td><td>&quot;TESLA INC&quot;</td><td>248.48</td><td>-0.018564</td><td>143439</td><td>&quot;2010-06-29&quot;</td><td>&quot;2024-12-31&quot;</td></tr></tbody></table></div>"
      ],
      "text/plain": [
       "shape: (14_832_526, 9)\n",
       "┌────────┬────────────┬────────┬─────────────┬───┬───────────┬────────┬────────────┬────────────┐\n",
       "│ PERMNO ┆ date       ┆ TICKER ┆ COMNAM      ┆ … ┆ RET       ┆ secid  ┆ sdate      ┆ edate      │\n",
       "│ ---    ┆ ---        ┆ ---    ┆ ---         ┆   ┆ ---       ┆ ---    ┆ ---        ┆ ---        │\n",
       "│ i64    ┆ str        ┆ str    ┆ str         ┆   ┆ f64       ┆ i64    ┆ str        ┆ str        │\n",
       "╞════════╪════════════╪════════╪═════════════╪═══╪═══════════╪════════╪════════════╪════════════╡\n",
       "│ 10026  ┆ 2019-01-02 ┆ JJSF   ┆ J & J SNACK ┆ … ┆ -0.024829 ┆ 106500 ┆ 1996-01-02 ┆ 2024-12-31 │\n",
       "│        ┆            ┆        ┆ FOODS CORP  ┆   ┆           ┆        ┆            ┆            │\n",
       "│ 10026  ┆ 2019-01-03 ┆ JJSF   ┆ J & J SNACK ┆ … ┆ 0.014326  ┆ 106500 ┆ 1996-01-02 ┆ 2024-12-31 │\n",
       "│        ┆            ┆        ┆ FOODS CORP  ┆   ┆           ┆        ┆            ┆            │\n",
       "│ 10026  ┆ 2019-01-04 ┆ JJSF   ┆ J & J SNACK ┆ … ┆ 0.012725  ┆ 106500 ┆ 1996-01-02 ┆ 2024-12-31 │\n",
       "│        ┆            ┆        ┆ FOODS CORP  ┆   ┆           ┆        ┆            ┆            │\n",
       "│ 10026  ┆ 2019-01-07 ┆ JJSF   ┆ J & J SNACK ┆ … ┆ 0.003935  ┆ 106500 ┆ 1996-01-02 ┆ 2024-12-31 │\n",
       "│        ┆            ┆        ┆ FOODS CORP  ┆   ┆           ┆        ┆            ┆            │\n",
       "│ 10026  ┆ 2019-01-08 ┆ JJSF   ┆ J & J SNACK ┆ … ┆ 0.022626  ┆ 106500 ┆ 1996-01-02 ┆ 2024-12-31 │\n",
       "│        ┆            ┆        ┆ FOODS CORP  ┆   ┆           ┆        ┆            ┆            │\n",
       "│ …      ┆ …          ┆ …      ┆ …           ┆ … ┆ …         ┆ …      ┆ …          ┆ …          │\n",
       "│ 93436  ┆ 2023-12-22 ┆ TSLA   ┆ TESLA INC   ┆ … ┆ -0.007701 ┆ 143439 ┆ 2010-06-29 ┆ 2024-12-31 │\n",
       "│ 93436  ┆ 2023-12-26 ┆ TSLA   ┆ TESLA INC   ┆ … ┆ 0.016116  ┆ 143439 ┆ 2010-06-29 ┆ 2024-12-31 │\n",
       "│ 93436  ┆ 2023-12-27 ┆ TSLA   ┆ TESLA INC   ┆ … ┆ 0.018822  ┆ 143439 ┆ 2010-06-29 ┆ 2024-12-31 │\n",
       "│ 93436  ┆ 2023-12-28 ┆ TSLA   ┆ TESLA INC   ┆ … ┆ -0.031594 ┆ 143439 ┆ 2010-06-29 ┆ 2024-12-31 │\n",
       "│ 93436  ┆ 2023-12-29 ┆ TSLA   ┆ TESLA INC   ┆ … ┆ -0.018564 ┆ 143439 ┆ 2010-06-29 ┆ 2024-12-31 │\n",
       "└────────┴────────────┴────────┴─────────────┴───┴───────────┴────────┴────────────┴────────────┘"
      ]
     },
     "execution_count": 11,
     "metadata": {},
     "output_type": "execute_result"
    }
   ],
   "source": [
    "ret_df = ret_df.join(filtered_map,on=\"PERMNO\")\n",
    "ret_df"
   ]
  },
  {
   "cell_type": "markdown",
   "id": "a75a9b64",
   "metadata": {},
   "source": [
    "### Creating formward looking returns for each row of the option or rolling up the options to look at average skew and then also the forward looking returns for the next week"
   ]
  },
  {
   "cell_type": "markdown",
   "id": "ed948b95",
   "metadata": {},
   "source": [
    "weekly_returns = "
   ]
  },
  {
   "cell_type": "markdown",
   "id": "a725b6b4",
   "metadata": {},
   "source": [
    "### Modifying options to look at the average vol skew in the previous week for options that are of the same expiration date and relative moneyness"
   ]
  },
  {
   "cell_type": "code",
   "execution_count": 27,
   "id": "2d65430c",
   "metadata": {},
   "outputs": [],
   "source": [
    "def compute_weekly_iv_skew_streaming(\n",
    "    csv_path: str,\n",
    "    dte_limit: int = 60,\n",
    "    call_range: tuple[float, float] = (0.95, 1.05),\n",
    "    put_range: tuple[float, float] = (0.85, 1.05),\n",
    "    weight_scheme: str = \"weekday\",   # \"equal\" | \"weekday\" | \"linear\" | \"exp\"\n",
    "    alpha: float = 0.3,               # for \"exp\": weight = exp(alpha * (pos-1))\n",
    "    streaming: bool = True,           # set False if using \"linear\"/\"exp\" (windowed)\n",
    ") -> pl.DataFrame:\n",
    "    c = pl.col\n",
    "\n",
    "    # Use scan_csv to stay lazy/streaming; parse date at read-time\n",
    "    lf = pl.scan_csv(\n",
    "    csv_path,\n",
    "    schema_overrides={\n",
    "        \"secid\": pl.Int64,\n",
    "        \"date\": pl.Date,\n",
    "        \"tte\": pl.Int32,\n",
    "        \"impl_volatility\": pl.Float32,\n",
    "        \"cp_flag\": pl.Categorical,\n",
    "        \"moneyness\": pl.Float32,\n",
    "    },\n",
    ").select([\"secid\", \"date\", \"tte\", \"impl_volatility\", \"cp_flag\", \"moneyness\"])\n",
    "\n",
    "    opt = (\n",
    "        lf\n",
    "        .filter(\n",
    "            (c(\"tte\") < dte_limit)\n",
    "            & c(\"moneyness\").is_not_null()\n",
    "            & c(\"impl_volatility\").is_finite()\n",
    "        )\n",
    "        .with_columns([\n",
    "            # Monday-anchored calendar week; only trading days exist\n",
    "            c(\"date\").dt.truncate(\"1w\").alias(\"week_start\"),\n",
    "            # mark eligible call/put IVs\n",
    "            pl.when(\n",
    "                (c(\"cp_flag\") == \"C\")\n",
    "                & (c(\"moneyness\") >= call_range[0])\n",
    "                & (c(\"moneyness\") <= call_range[1])\n",
    "            ).then(c(\"impl_volatility\")).otherwise(None).alias(\"call_iv\"),\n",
    "            pl.when(\n",
    "                (c(\"cp_flag\") == \"P\")\n",
    "                & (c(\"moneyness\") >= put_range[0])\n",
    "                & (c(\"moneyness\") <= put_range[1])\n",
    "            ).then(c(\"impl_volatility\")).otherwise(None).alias(\"put_iv\"),\n",
    "        ])\n",
    "    )\n",
    "\n",
    "    # Daily skew per secid/date\n",
    "    daily = (\n",
    "        opt.group_by([\"secid\", \"date\", \"week_start\"])\n",
    "           .agg([\n",
    "               pl.mean(\"call_iv\").alias(\"call_iv_d\"),\n",
    "               pl.mean(\"put_iv\").alias(\"put_iv_d\"),\n",
    "           ])\n",
    "           .filter(c(\"call_iv_d\").is_not_null() & c(\"put_iv_d\").is_not_null())\n",
    "           .with_columns((c(\"call_iv_d\") - c(\"put_iv_d\")).alias(\"skew_d\"))\n",
    "    )\n",
    "\n",
    "    # Weights\n",
    "    if weight_scheme == \"equal\":\n",
    "        daily_w = daily.with_columns(pl.lit(1.0).alias(\"w\"))\n",
    "        allow_stream = True\n",
    "    elif weight_scheme == \"weekday\":\n",
    "        # Mon..Fri -> 1..5 (holidays/short weeks handled naturally)\n",
    "        daily_w = daily.with_columns((c(\"date\").dt.weekday() + 1).cast(pl.Float32).alias(\"w\"))\n",
    "        allow_stream = True\n",
    "    elif weight_scheme in (\"linear\", \"exp\"):\n",
    "        # Position within week (1..N) requires a window; may disable streaming\n",
    "        daily_w = (\n",
    "            daily.sort([\"secid\", \"week_start\", \"date\"])\n",
    "                 .with_columns((pl.cum_count().over([\"secid\", \"week_start\"]) + 1).alias(\"pos\"))\n",
    "                 .with_columns(\n",
    "                     pl.when(weight_scheme == \"linear\")\n",
    "                       .then(c(\"pos\").cast(pl.Float32))\n",
    "                       .otherwise((pl.lit(alpha) * (c(\"pos\") - 1)).exp().cast(pl.Float32))\n",
    "                       .alias(\"w\")\n",
    "                 )\n",
    "        )\n",
    "        allow_stream = False\n",
    "    else:\n",
    "        raise ValueError(\"weight_scheme must be one of {'equal','weekday','linear','exp'}\")\n",
    "\n",
    "    weekly = (\n",
    "        daily_w.group_by([\"secid\", \"week_start\"])\n",
    "               .agg([\n",
    "                   ((c(\"skew_d\") * c(\"w\")).sum() / c(\"w\").sum()).alias(\"IV_skew\"),\n",
    "                   pl.max(\"date\").alias(\"week_end\"),  # last trading day in week\n",
    "               ])\n",
    "               .sort([\"secid\", \"week_start\"])\n",
    "               .select([\"secid\", \"week_start\", \"week_end\", \"IV_skew\"])\n",
    "    )\n",
    "\n",
    "    return weekly.collect(streaming=(streaming and allow_stream))"
   ]
  },
  {
   "cell_type": "code",
   "execution_count": 28,
   "id": "46a5cb52",
   "metadata": {},
   "outputs": [],
   "source": [
    "weekly_option_df = compute_weekly_iv_skew_streaming(\n",
    "    \"./raw_data/options_data.csv\",\n",
    "    dte_limit=60,\n",
    "    weight_scheme=\"weekday\",   # or \"equal\" / \"linear\" / \"exp\"\n",
    "    alpha=0.4,                 # only used for \"exp\"\n",
    ")\n",
    "\n"
   ]
  },
  {
   "cell_type": "code",
   "execution_count": 29,
   "id": "2d389793",
   "metadata": {},
   "outputs": [
    {
     "data": {
      "text/html": [
       "<div><style>\n",
       ".dataframe > thead > tr,\n",
       ".dataframe > tbody > tr {\n",
       "  text-align: right;\n",
       "  white-space: pre-wrap;\n",
       "}\n",
       "</style>\n",
       "<small>shape: (514_760, 4)</small><table border=\"1\" class=\"dataframe\"><thead><tr><th>secid</th><th>week_start</th><th>week_end</th><th>IV_skew</th></tr><tr><td>i64</td><td>date</td><td>date</td><td>f32</td></tr></thead><tbody><tr><td>5594</td><td>2021-11-08</td><td>2021-11-11</td><td>0.076602</td></tr><tr><td>5594</td><td>2021-11-15</td><td>2021-11-19</td><td>0.028996</td></tr><tr><td>5594</td><td>2021-11-22</td><td>2021-11-24</td><td>0.044062</td></tr><tr><td>6646</td><td>2020-10-26</td><td>2020-10-26</td><td>-0.037153</td></tr><tr><td>6646</td><td>2020-11-16</td><td>2020-11-18</td><td>0.015387</td></tr><tr><td>&hellip;</td><td>&hellip;</td><td>&hellip;</td><td>&hellip;</td></tr><tr><td>218532</td><td>2023-08-21</td><td>2023-08-25</td><td>0.010728</td></tr><tr><td>218532</td><td>2023-08-28</td><td>2023-08-31</td><td>0.503919</td></tr><tr><td>218609</td><td>2023-08-14</td><td>2023-08-18</td><td>0.011428</td></tr><tr><td>218609</td><td>2023-08-21</td><td>2023-08-25</td><td>-0.004274</td></tr><tr><td>218609</td><td>2023-08-28</td><td>2023-08-31</td><td>0.023583</td></tr></tbody></table></div>"
      ],
      "text/plain": [
       "shape: (514_760, 4)\n",
       "┌────────┬────────────┬────────────┬───────────┐\n",
       "│ secid  ┆ week_start ┆ week_end   ┆ IV_skew   │\n",
       "│ ---    ┆ ---        ┆ ---        ┆ ---       │\n",
       "│ i64    ┆ date       ┆ date       ┆ f32       │\n",
       "╞════════╪════════════╪════════════╪═══════════╡\n",
       "│ 5594   ┆ 2021-11-08 ┆ 2021-11-11 ┆ 0.076602  │\n",
       "│ 5594   ┆ 2021-11-15 ┆ 2021-11-19 ┆ 0.028996  │\n",
       "│ 5594   ┆ 2021-11-22 ┆ 2021-11-24 ┆ 0.044062  │\n",
       "│ 6646   ┆ 2020-10-26 ┆ 2020-10-26 ┆ -0.037153 │\n",
       "│ 6646   ┆ 2020-11-16 ┆ 2020-11-18 ┆ 0.015387  │\n",
       "│ …      ┆ …          ┆ …          ┆ …         │\n",
       "│ 218532 ┆ 2023-08-21 ┆ 2023-08-25 ┆ 0.010728  │\n",
       "│ 218532 ┆ 2023-08-28 ┆ 2023-08-31 ┆ 0.503919  │\n",
       "│ 218609 ┆ 2023-08-14 ┆ 2023-08-18 ┆ 0.011428  │\n",
       "│ 218609 ┆ 2023-08-21 ┆ 2023-08-25 ┆ -0.004274 │\n",
       "│ 218609 ┆ 2023-08-28 ┆ 2023-08-31 ┆ 0.023583  │\n",
       "└────────┴────────────┴────────────┴───────────┘"
      ]
     },
     "execution_count": 29,
     "metadata": {},
     "output_type": "execute_result"
    }
   ],
   "source": [
    "weekly_option_df\n"
   ]
  }
 ],
 "metadata": {
  "kernelspec": {
   "display_name": "Python 3",
   "language": "python",
   "name": "python3"
  },
  "language_info": {
   "codemirror_mode": {
    "name": "ipython",
    "version": 3
   },
   "file_extension": ".py",
   "mimetype": "text/x-python",
   "name": "python",
   "nbconvert_exporter": "python",
   "pygments_lexer": "ipython3",
   "version": "3.11.5"
  }
 },
 "nbformat": 4,
 "nbformat_minor": 5
}
