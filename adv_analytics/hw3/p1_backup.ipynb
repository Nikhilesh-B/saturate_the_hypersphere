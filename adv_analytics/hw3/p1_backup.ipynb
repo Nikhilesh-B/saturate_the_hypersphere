{
 "cells": [
  {
   "cell_type": "markdown",
   "id": "7ef62afe",
   "metadata": {},
   "source": [
    "# Performance Evaluation - Portfolio Managers Analysis\n",
    "\n",
    "**Problem 3:** You run a large university endowment that invests with outside portfolio managers. Two final candidates have been presented to you. The PMs' track records from 2005 to 2024 are included in the spreadsheet \"PM.xlsx.\" You might also need the data for monthly market excess returns, returns for the SMB and HML factors, and one-month Treasury bill rates from Ken French's website.\n"
   ]
  },
  {
   "cell_type": "markdown",
   "id": "57596e40",
   "metadata": {},
   "source": [
    "## Data Loading and Setup\n"
   ]
  },
  {
   "cell_type": "code",
   "execution_count": null,
   "id": "e5e2a586",
   "metadata": {},
   "outputs": [],
   "source": [
    "import pandas as pd\n",
    "import numpy as np\n",
    "import statsmodels.api as sm\n",
    "import matplotlib.pyplot as plt\n",
    "\n",
    "plt.rcParams['figure.figsize'] = (10, 6)\n",
    "\n",
    "# Load data\n",
    "manager_df = pd.read_excel('PM.xlsx')\n",
    "ff3_df = pd.read_csv('F-F_Research_Data_Factors.csv')\n",
    "\n",
    "# Process dates and merge data\n",
    "ff3_df['Date'] = pd.to_datetime(ff3_df['Date'], format='%Y%m')\n",
    "manager_df['Date'] = pd.to_datetime(manager_df['Date'], format='%Y%m')\n",
    "ff3_df = ff3_df.set_index('Date')\n",
    "manager_df = manager_df.set_index('Date')\n",
    "\n",
    "# Convert to decimal format\n",
    "manager_df /= 100\n",
    "ff3_df /= 100\n",
    "\n",
    "# Merge datasets\n",
    "df = pd.merge(left=manager_df, right=ff3_df, left_index=True, right_index=True)\n",
    "\n",
    "print(f\"Data loaded: {df.shape[0]} observations from {df.index.min().strftime('%Y-%m')} to {df.index.max().strftime('%Y-%m')}\")\n"
   ]
  },
  {
   "cell_type": "markdown",
   "id": "2237e3cb",
   "metadata": {},
   "source": [
    "## (a) Summarize the performances of the two managers\n",
    "\n",
    "### Scatter plots of managers' monthly excess returns against market excess returns\n"
   ]
  },
  {
   "cell_type": "code",
   "execution_count": null,
   "id": "636d234f",
   "metadata": {},
   "outputs": [],
   "source": [
    "# Calculate excess returns\n",
    "df['PM1_excess'] = df['PM1'] - df['RF']\n",
    "df['PM2_excess'] = df['PM2'] - df['RF']\n",
    "\n",
    "# Create scatter plot\n",
    "plt.figure(figsize=(12, 5))\n",
    "\n",
    "plt.subplot(1, 2, 1)\n",
    "plt.scatter(df['Mkt-RF'], df['PM1_excess'], alpha=0.6, color='red')\n",
    "plt.xlabel('Market Excess Return')\n",
    "plt.ylabel('PM1 Excess Return')\n",
    "plt.title('PM1 vs Market Excess Returns')\n",
    "plt.grid(True, alpha=0.3)\n",
    "\n",
    "plt.subplot(1, 2, 2)\n",
    "plt.scatter(df['Mkt-RF'], df['PM2_excess'], alpha=0.6, color='blue')\n",
    "plt.xlabel('Market Excess Return')\n",
    "plt.ylabel('PM2 Excess Return')\n",
    "plt.title('PM2 vs Market Excess Returns')\n",
    "plt.grid(True, alpha=0.3)\n",
    "\n",
    "plt.tight_layout()\n",
    "plt.show()\n"
   ]
  },
  {
   "cell_type": "markdown",
   "id": "415a8fe3",
   "metadata": {},
   "source": [
    "### Boxplot of the two managers' monthly returns\n"
   ]
  },
  {
   "cell_type": "code",
   "execution_count": null,
   "id": "8ab61109",
   "metadata": {},
   "outputs": [],
   "source": [
    "plt.figure(figsize=(8, 6))\n",
    "plt.boxplot([df['PM1'], df['PM2']], tick_labels=['PM1', 'PM2'])\n",
    "plt.title('Side-by-Side Boxplots of PM1 and PM2 Monthly Returns')\n",
    "plt.ylabel('Monthly Returns')\n",
    "plt.grid(True, alpha=0.3)\n",
    "plt.show()\n"
   ]
  },
  {
   "cell_type": "markdown",
   "id": "493941fb",
   "metadata": {},
   "source": [
    "### Performance Metrics: Mean, Standard Deviation, Sharpe Ratio, Information Ratio, and Maximum Drawdown\n"
   ]
  },
  {
   "cell_type": "code",
   "execution_count": null,
   "id": "13c60375",
   "metadata": {},
   "outputs": [],
   "source": [
    "def calculate_performance_metrics(returns, rf_rate, market_excess):\n",
    "    \"\"\"Calculate performance metrics for a portfolio manager\"\"\"\n",
    "    excess_returns = returns - rf_rate\n",
    "    excess_vs_market = returns - market_excess - rf_rate\n",
    "    \n",
    "    # Basic statistics\n",
    "    mean_return = returns.mean()\n",
    "    std_return = returns.std()\n",
    "    \n",
    "    # Sharpe ratio\n",
    "    sharpe_ratio = excess_returns.mean() / excess_returns.std()\n",
    "    \n",
    "    # Information ratio (excess return over market / tracking error)\n",
    "    info_ratio = excess_vs_market.mean() / excess_vs_market.std()\n",
    "    \n",
    "    # Maximum drawdown calculation\n",
    "    cumulative_returns = (1 + returns).cumprod()\n",
    "    running_max = cumulative_returns.expanding().max()\n",
    "    drawdown = (cumulative_returns - running_max) / running_max\n",
    "    max_drawdown = drawdown.min()\n",
    "    \n",
    "    return {\n",
    "        'Mean': mean_return,\n",
    "        'Std Dev': std_return,\n",
    "        'Sharpe Ratio': sharpe_ratio,\n",
    "        'Information Ratio': info_ratio,\n",
    "        'Max Drawdown': max_drawdown\n",
    "    }\n",
    "\n",
    "# Calculate metrics for both managers\n",
    "pm1_metrics = calculate_performance_metrics(df['PM1'], df['RF'], df['Mkt-RF'])\n",
    "pm2_metrics = calculate_performance_metrics(df['PM2'], df['RF'], df['Mkt-RF'])\n",
    "\n",
    "# Display results\n",
    "results_df = pd.DataFrame({'PM1': pm1_metrics, 'PM2': pm2_metrics})\n",
    "print(\"Performance Metrics Summary:\")\n",
    "print(\"=\" * 40)\n",
    "print(results_df.round(4))\n"
   ]
  },
  {
   "cell_type": "markdown",
   "id": "c3bd9138",
   "metadata": {},
   "source": [
    "### Observations on Differences and Outliers\n",
    "\n",
    "**Key Differences between PM1 and PM2:**\n",
    "\n",
    "1. **Volatility**: PM1 exhibits much higher variance in returns compared to PM2, indicating higher risk.\n",
    "\n",
    "2. **Return Distribution**: Both managers show similar mean returns, but PM2 has significantly more outliers, particularly in the negative direction.\n",
    "\n",
    "3. **Risk-Return Profile**: PM1 shows higher volatility but also potentially higher returns, while PM2 appears more conservative with tighter return distribution.\n",
    "\n",
    "4. **Outlier Treatment**: The presence of outliers, especially for PM2, suggests that winsorization might be considered to remove extreme high and low returns for more robust analysis.\n"
   ]
  },
  {
   "cell_type": "markdown",
   "id": "e22ef04f",
   "metadata": {},
   "source": [
    "## (b) Evidence for ability to outperform the market using Fama-French 3-factor model\n",
    "\n",
    "### Fama-French 3-Factor Model: R*ᵢ,ₜ = αᵢ + βᵢRₘ,ₜ + γᵢRₕₘₗ,ₜ + δᵢRₛₘᵦ,ₜ + εᵢ,ₜ\n",
    "\n",
    "### PM1 Regression Results\n"
   ]
  },
  {
   "cell_type": "code",
   "execution_count": null,
   "id": "0b79fac9",
   "metadata": {},
   "outputs": [],
   "source": [
    "# PM1 Fama-French 3-factor regression\n",
    "Y_pm1 = df['PM1'] - df['RF']  # PM1 excess returns\n",
    "X_pm1 = sm.add_constant(df[['Mkt-RF', 'HML', 'SMB']])\n",
    "\n",
    "model_pm1 = sm.OLS(endog=Y_pm1, exog=X_pm1).fit()\n",
    "print(\"PM1 Fama-French 3-Factor Model Results:\")\n",
    "print(\"=\" * 50)\n",
    "model_pm1.summary()\n"
   ]
  },
  {
   "cell_type": "markdown",
   "id": "6d62c6ef",
   "metadata": {},
   "source": [
    "### PM2 Regression Results\n"
   ]
  },
  {
   "cell_type": "code",
   "execution_count": null,
   "id": "fd9bfc05",
   "metadata": {},
   "outputs": [],
   "source": [
    "# PM2 Fama-French 3-factor regression\n",
    "Y_pm2 = df['PM2'] - df['RF']  # PM2 excess returns\n",
    "X_pm2 = sm.add_constant(df[['Mkt-RF', 'HML', 'SMB']])\n",
    "\n",
    "model_pm2 = sm.OLS(endog=Y_pm2, exog=X_pm2).fit()\n",
    "print(\"PM2 Fama-French 3-Factor Model Results:\")\n",
    "print(\"=\" * 50)\n",
    "model_pm2.summary()\n"
   ]
  },
  {
   "cell_type": "markdown",
   "id": "fecb02b9",
   "metadata": {},
   "source": [
    "## (c) Which PM is better at beating the market? Sharpe ratio and Information ratio analysis\n",
    "\n",
    "### Summary and Conclusions\n"
   ]
  },
  {
   "cell_type": "code",
   "execution_count": null,
   "id": "31cb51e1",
   "metadata": {},
   "outputs": [],
   "source": [
    "# Extract key statistics for comparison\n",
    "print(\"PERFORMANCE COMPARISON SUMMARY\")\n",
    "print(\"=\" * 50)\n",
    "\n",
    "print(f\"\\n1. MARKET-BEATING ABILITY (Information Ratio):\")\n",
    "print(f\"   PM1 Information Ratio: {pm1_metrics['Information Ratio']:.4f}\")\n",
    "print(f\"   PM2 Information Ratio: {pm2_metrics['Information Ratio']:.4f}\")\n",
    "print(f\"   Winner: {'PM1' if pm1_metrics['Information Ratio'] > pm2_metrics['Information Ratio'] else 'PM2'}\")\n",
    "\n",
    "print(f\"\\n2. RISK-ADJUSTED RETURNS (Sharpe Ratio):\")\n",
    "print(f\"   PM1 Sharpe Ratio: {pm1_metrics['Sharpe Ratio']:.4f}\")\n",
    "print(f\"   PM2 Sharpe Ratio: {pm2_metrics['Sharpe Ratio']:.4f}\")\n",
    "print(f\"   Winner: {'PM1' if pm1_metrics['Sharpe Ratio'] > pm2_metrics['Sharpe Ratio'] else 'PM2'}\")\n",
    "\n",
    "print(f\"\\n3. FAMA-FRENCH 3-FACTOR ALPHA (Ability to generate alpha):\")\n",
    "print(f\"   PM1 Alpha: {model_pm1.params['const']:.4f} (t-stat: {model_pm1.tvalues['const']:.3f})\")\n",
    "print(f\"   PM2 Alpha: {model_pm2.params['const']:.4f} (t-stat: {model_pm2.tvalues['const']:.3f})\")\n",
    "alpha_winner = 'PM1' if model_pm1.tvalues['const'] > model_pm2.tvalues['const'] else 'PM2'\n",
    "print(f\"   Winner (higher t-statistic): {alpha_winner}\")\n",
    "\n",
    "print(f\"\\n4. FACTOR EXPOSURES:\")\n",
    "print(f\"   PM1 - Market Beta: {model_pm1.params['Mkt-RF']:.3f}, HML: {model_pm1.params['HML']:.3f}, SMB: {model_pm1.params['SMB']:.3f}\")\n",
    "print(f\"   PM2 - Market Beta: {model_pm2.params['Mkt-RF']:.3f}, HML: {model_pm2.params['HML']:.3f}, SMB: {model_pm2.params['SMB']:.3f}\")\n"
   ]
  },
  {
   "cell_type": "markdown",
   "id": "aeda5c88",
   "metadata": {},
   "source": [
    "### Final Recommendation\n",
    "\n",
    "Based on the comprehensive analysis:\n",
    "\n",
    "**1. Market-Beating Ability**: PM1 demonstrates superior ability to beat the market with a higher Information Ratio.\n",
    "\n",
    "**2. Risk-Adjusted Performance**: PM1 generates a slightly better Sharpe ratio, indicating better risk-adjusted returns.\n",
    "\n",
    "**3. Alpha Generation**: PM1 shows stronger evidence of alpha generation with a higher t-statistic in the Fama-French 3-factor model, suggesting more statistically significant outperformance.\n",
    "\n",
    "**Conclusion**: **PM1 is the better choice** for the university endowment based on superior market-beating ability, better risk-adjusted returns, and stronger statistical evidence of alpha generation through the Fama-French 3-factor analysis.\n"
   ]
  }
 ],
 "metadata": {
  "kernelspec": {
   "display_name": "Python 3",
   "language": "python",
   "name": "python3"
  },
  "language_info": {
   "codemirror_mode": {
    "name": "ipython",
    "version": 3
   },
   "file_extension": ".py",
   "mimetype": "text/x-python",
   "name": "python",
   "nbconvert_exporter": "python",
   "pygments_lexer": "ipython3",
   "version": "3.11.5"
  }
 },
 "nbformat": 4,
 "nbformat_minor": 5
}
