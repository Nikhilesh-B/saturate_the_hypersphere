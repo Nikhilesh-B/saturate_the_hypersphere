{
 "cells": [
  {
   "cell_type": "code",
   "execution_count": 10,
   "id": "0a31a395",
   "metadata": {},
   "outputs": [],
   "source": [
    "import numpy as np"
   ]
  },
  {
   "cell_type": "code",
   "execution_count": 11,
   "id": "a4f087b2",
   "metadata": {},
   "outputs": [],
   "source": [
    "Q = np.array([[1,0,0],[0,1,0],[0,0,1]])\n",
    "x = np.array([[1,2,4]]).T\n",
    "y = np.array([[3,1,2]]).T\n",
    "\n",
    "A = np.array([[1,2,3],[4,-1,5],[7,8,-1]])"
   ]
  },
  {
   "cell_type": "code",
   "execution_count": 12,
   "id": "f41f476a",
   "metadata": {},
   "outputs": [
    {
     "data": {
      "text/plain": [
       "array([[161]])"
      ]
     },
     "execution_count": 12,
     "metadata": {},
     "output_type": "execute_result"
    }
   ],
   "source": [
    "p1 = x.T@A@y\n",
    "p1 "
   ]
  },
  {
   "cell_type": "code",
   "execution_count": 13,
   "id": "9062c613",
   "metadata": {},
   "outputs": [
    {
     "data": {
      "text/plain": [
       "array([[161]])"
      ]
     },
     "execution_count": 13,
     "metadata": {},
     "output_type": "execute_result"
    }
   ],
   "source": [
    "p2 = (Q@x).T@A@(Q@y)\n",
    "p2"
   ]
  },
  {
   "cell_type": "code",
   "execution_count": null,
   "id": "8eae721c",
   "metadata": {},
   "outputs": [],
   "source": []
  }
 ],
 "metadata": {
  "kernelspec": {
   "display_name": "Python 3",
   "language": "python",
   "name": "python3"
  },
  "language_info": {
   "codemirror_mode": {
    "name": "ipython",
    "version": 3
   },
   "file_extension": ".py",
   "mimetype": "text/x-python",
   "name": "python",
   "nbconvert_exporter": "python",
   "pygments_lexer": "ipython3",
   "version": "3.11.5"
  }
 },
 "nbformat": 4,
 "nbformat_minor": 5
}
